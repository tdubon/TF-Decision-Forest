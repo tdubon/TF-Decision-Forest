{
  "nbformat": 4,
  "nbformat_minor": 0,
  "metadata": {
    "colab": {
      "name": "TFDecisionTrees.ipynb",
      "provenance": [],
      "collapsed_sections": [],
      "authorship_tag": "ABX9TyMwmVkGrP+wTQ3WkOM6oTeJ",
      "include_colab_link": true
    },
    "kernelspec": {
      "name": "python3",
      "display_name": "Python 3"
    },
    "language_info": {
      "name": "python"
    },
    "widgets": {
      "application/vnd.jupyter.widget-state+json": {
        "d0dd7bc222f447af9e864b19c3075962": {
          "model_module": "@jupyter-widgets/controls",
          "model_name": "VBoxModel",
          "model_module_version": "1.5.0",
          "state": {
            "_view_name": "VBoxView",
            "_dom_classes": [],
            "_model_name": "VBoxModel",
            "_view_module": "@jupyter-widgets/controls",
            "_model_module_version": "1.5.0",
            "_view_count": null,
            "_view_module_version": "1.5.0",
            "box_style": "",
            "layout": "IPY_MODEL_a35f95c86ff34a60ab8a6fa66f445ad0",
            "_model_module": "@jupyter-widgets/controls",
            "children": [
              "IPY_MODEL_bab78e6b1d5d4055b254496c606744e3",
              "IPY_MODEL_b85197b2b2dc4e768e45648226f82f7c",
              "IPY_MODEL_3bec8a0f68984bccbde9b79e8a988ff8",
              "IPY_MODEL_81d15f45ea4c4c829716ade67f2cb65b",
              "IPY_MODEL_f28c3a1faa0f4602b521f03fead1d6e6"
            ]
          }
        },
        "a35f95c86ff34a60ab8a6fa66f445ad0": {
          "model_module": "@jupyter-widgets/base",
          "model_name": "LayoutModel",
          "model_module_version": "1.2.0",
          "state": {
            "_view_name": "LayoutView",
            "grid_template_rows": null,
            "right": null,
            "justify_content": null,
            "_view_module": "@jupyter-widgets/base",
            "overflow": null,
            "_model_module_version": "1.2.0",
            "_view_count": null,
            "flex_flow": "column",
            "width": "50%",
            "min_width": null,
            "border": null,
            "align_items": "center",
            "bottom": null,
            "_model_module": "@jupyter-widgets/base",
            "top": null,
            "grid_column": null,
            "overflow_y": null,
            "overflow_x": null,
            "grid_auto_flow": null,
            "grid_area": null,
            "grid_template_columns": null,
            "flex": null,
            "_model_name": "LayoutModel",
            "justify_items": null,
            "grid_row": null,
            "max_height": null,
            "align_content": null,
            "visibility": null,
            "align_self": null,
            "height": null,
            "min_height": null,
            "padding": null,
            "grid_auto_rows": null,
            "grid_gap": null,
            "max_width": null,
            "order": null,
            "_view_module_version": "1.2.0",
            "grid_template_areas": null,
            "object_position": null,
            "object_fit": null,
            "grid_auto_columns": null,
            "margin": null,
            "display": "flex",
            "left": null
          }
        },
        "bab78e6b1d5d4055b254496c606744e3": {
          "model_module": "@jupyter-widgets/controls",
          "model_name": "HTMLModel",
          "model_module_version": "1.5.0",
          "state": {
            "_view_name": "HTMLView",
            "style": "IPY_MODEL_aee71589b7a445a59fc246640ee6dc3d",
            "_dom_classes": [],
            "description": "",
            "_model_name": "HTMLModel",
            "placeholder": "​",
            "_view_module": "@jupyter-widgets/controls",
            "_model_module_version": "1.5.0",
            "value": "<center>\n<img src=https://huggingface.co/front/assets/huggingface_logo-noborder.svg alt='Hugging Face'>\n<br>\nCopy a token from <a href=\"https://huggingface.co/settings/token\" target=\"_blank\">your Hugging Face tokens page</a> and paste it below.\n<br>\nImmediately click login after copying your token or it might be stored in plain text in this notebook file.\n</center>",
            "_view_count": null,
            "_view_module_version": "1.5.0",
            "description_tooltip": null,
            "_model_module": "@jupyter-widgets/controls",
            "layout": "IPY_MODEL_07c57f05b82f42f0a6d8af2c87f585b7"
          }
        },
        "b85197b2b2dc4e768e45648226f82f7c": {
          "model_module": "@jupyter-widgets/controls",
          "model_name": "PasswordModel",
          "model_module_version": "1.5.0",
          "state": {
            "_view_name": "PasswordView",
            "style": "IPY_MODEL_b7ecfd4804fa499bba640e454f114c5d",
            "_dom_classes": [],
            "description": "Token:",
            "_model_name": "PasswordModel",
            "placeholder": "​",
            "_view_module": "@jupyter-widgets/controls",
            "_model_module_version": "1.5.0",
            "value": "",
            "_view_count": null,
            "disabled": false,
            "_view_module_version": "1.5.0",
            "continuous_update": true,
            "description_tooltip": null,
            "_model_module": "@jupyter-widgets/controls",
            "layout": "IPY_MODEL_9c5059c2899742f9929d6b57cb579ec5"
          }
        },
        "3bec8a0f68984bccbde9b79e8a988ff8": {
          "model_module": "@jupyter-widgets/controls",
          "model_name": "ButtonModel",
          "model_module_version": "1.5.0",
          "state": {
            "_view_name": "ButtonView",
            "style": "IPY_MODEL_821907ad4acc49909fe64809519c5135",
            "_dom_classes": [],
            "description": "Login",
            "_model_name": "ButtonModel",
            "button_style": "",
            "_view_module": "@jupyter-widgets/controls",
            "_model_module_version": "1.5.0",
            "tooltip": "",
            "_view_count": null,
            "disabled": false,
            "_view_module_version": "1.5.0",
            "layout": "IPY_MODEL_0ac87a81a9f34382822215293431a8bd",
            "_model_module": "@jupyter-widgets/controls",
            "icon": ""
          }
        },
        "81d15f45ea4c4c829716ade67f2cb65b": {
          "model_module": "@jupyter-widgets/controls",
          "model_name": "HTMLModel",
          "model_module_version": "1.5.0",
          "state": {
            "_view_name": "HTMLView",
            "style": "IPY_MODEL_cbc8a9bcc07f44b2ae11f9eab740b8a2",
            "_dom_classes": [],
            "description": "",
            "_model_name": "HTMLModel",
            "placeholder": "​",
            "_view_module": "@jupyter-widgets/controls",
            "_model_module_version": "1.5.0",
            "value": "\n<b>Pro Tip:</b> If you don't already have one, you can create a dedicated 'notebooks' token with 'write' access, that you can then easily reuse for all notebooks.\n<br>\n<i>Logging in with your username and password is deprecated and won't be possible anymore in the near future. You can still use them for now by clicking below.</i>\n</center>",
            "_view_count": null,
            "_view_module_version": "1.5.0",
            "description_tooltip": null,
            "_model_module": "@jupyter-widgets/controls",
            "layout": "IPY_MODEL_0a5807ef3e644991878a0e046c55c825"
          }
        },
        "f28c3a1faa0f4602b521f03fead1d6e6": {
          "model_module": "@jupyter-widgets/controls",
          "model_name": "ButtonModel",
          "model_module_version": "1.5.0",
          "state": {
            "_view_name": "ButtonView",
            "style": "IPY_MODEL_1ae3038ad6ed4635931c4c606a4fe640",
            "_dom_classes": [],
            "description": "Use password",
            "_model_name": "ButtonModel",
            "button_style": "",
            "_view_module": "@jupyter-widgets/controls",
            "_model_module_version": "1.5.0",
            "tooltip": "",
            "_view_count": null,
            "disabled": false,
            "_view_module_version": "1.5.0",
            "layout": "IPY_MODEL_49f14d0ef80b4134af8ad5211c12bc41",
            "_model_module": "@jupyter-widgets/controls",
            "icon": ""
          }
        },
        "aee71589b7a445a59fc246640ee6dc3d": {
          "model_module": "@jupyter-widgets/controls",
          "model_name": "DescriptionStyleModel",
          "model_module_version": "1.5.0",
          "state": {
            "_view_name": "StyleView",
            "_model_name": "DescriptionStyleModel",
            "description_width": "",
            "_view_module": "@jupyter-widgets/base",
            "_model_module_version": "1.5.0",
            "_view_count": null,
            "_view_module_version": "1.2.0",
            "_model_module": "@jupyter-widgets/controls"
          }
        },
        "07c57f05b82f42f0a6d8af2c87f585b7": {
          "model_module": "@jupyter-widgets/base",
          "model_name": "LayoutModel",
          "model_module_version": "1.2.0",
          "state": {
            "_view_name": "LayoutView",
            "grid_template_rows": null,
            "right": null,
            "justify_content": null,
            "_view_module": "@jupyter-widgets/base",
            "overflow": null,
            "_model_module_version": "1.2.0",
            "_view_count": null,
            "flex_flow": null,
            "width": null,
            "min_width": null,
            "border": null,
            "align_items": null,
            "bottom": null,
            "_model_module": "@jupyter-widgets/base",
            "top": null,
            "grid_column": null,
            "overflow_y": null,
            "overflow_x": null,
            "grid_auto_flow": null,
            "grid_area": null,
            "grid_template_columns": null,
            "flex": null,
            "_model_name": "LayoutModel",
            "justify_items": null,
            "grid_row": null,
            "max_height": null,
            "align_content": null,
            "visibility": null,
            "align_self": null,
            "height": null,
            "min_height": null,
            "padding": null,
            "grid_auto_rows": null,
            "grid_gap": null,
            "max_width": null,
            "order": null,
            "_view_module_version": "1.2.0",
            "grid_template_areas": null,
            "object_position": null,
            "object_fit": null,
            "grid_auto_columns": null,
            "margin": null,
            "display": null,
            "left": null
          }
        },
        "b7ecfd4804fa499bba640e454f114c5d": {
          "model_module": "@jupyter-widgets/controls",
          "model_name": "DescriptionStyleModel",
          "model_module_version": "1.5.0",
          "state": {
            "_view_name": "StyleView",
            "_model_name": "DescriptionStyleModel",
            "description_width": "",
            "_view_module": "@jupyter-widgets/base",
            "_model_module_version": "1.5.0",
            "_view_count": null,
            "_view_module_version": "1.2.0",
            "_model_module": "@jupyter-widgets/controls"
          }
        },
        "9c5059c2899742f9929d6b57cb579ec5": {
          "model_module": "@jupyter-widgets/base",
          "model_name": "LayoutModel",
          "model_module_version": "1.2.0",
          "state": {
            "_view_name": "LayoutView",
            "grid_template_rows": null,
            "right": null,
            "justify_content": null,
            "_view_module": "@jupyter-widgets/base",
            "overflow": null,
            "_model_module_version": "1.2.0",
            "_view_count": null,
            "flex_flow": null,
            "width": null,
            "min_width": null,
            "border": null,
            "align_items": null,
            "bottom": null,
            "_model_module": "@jupyter-widgets/base",
            "top": null,
            "grid_column": null,
            "overflow_y": null,
            "overflow_x": null,
            "grid_auto_flow": null,
            "grid_area": null,
            "grid_template_columns": null,
            "flex": null,
            "_model_name": "LayoutModel",
            "justify_items": null,
            "grid_row": null,
            "max_height": null,
            "align_content": null,
            "visibility": null,
            "align_self": null,
            "height": null,
            "min_height": null,
            "padding": null,
            "grid_auto_rows": null,
            "grid_gap": null,
            "max_width": null,
            "order": null,
            "_view_module_version": "1.2.0",
            "grid_template_areas": null,
            "object_position": null,
            "object_fit": null,
            "grid_auto_columns": null,
            "margin": null,
            "display": null,
            "left": null
          }
        },
        "821907ad4acc49909fe64809519c5135": {
          "model_module": "@jupyter-widgets/controls",
          "model_name": "ButtonStyleModel",
          "model_module_version": "1.5.0",
          "state": {
            "_view_name": "StyleView",
            "_model_name": "ButtonStyleModel",
            "_view_module": "@jupyter-widgets/base",
            "_model_module_version": "1.5.0",
            "_view_count": null,
            "button_color": null,
            "font_weight": "",
            "_view_module_version": "1.2.0",
            "_model_module": "@jupyter-widgets/controls"
          }
        },
        "0ac87a81a9f34382822215293431a8bd": {
          "model_module": "@jupyter-widgets/base",
          "model_name": "LayoutModel",
          "model_module_version": "1.2.0",
          "state": {
            "_view_name": "LayoutView",
            "grid_template_rows": null,
            "right": null,
            "justify_content": null,
            "_view_module": "@jupyter-widgets/base",
            "overflow": null,
            "_model_module_version": "1.2.0",
            "_view_count": null,
            "flex_flow": null,
            "width": null,
            "min_width": null,
            "border": null,
            "align_items": null,
            "bottom": null,
            "_model_module": "@jupyter-widgets/base",
            "top": null,
            "grid_column": null,
            "overflow_y": null,
            "overflow_x": null,
            "grid_auto_flow": null,
            "grid_area": null,
            "grid_template_columns": null,
            "flex": null,
            "_model_name": "LayoutModel",
            "justify_items": null,
            "grid_row": null,
            "max_height": null,
            "align_content": null,
            "visibility": null,
            "align_self": null,
            "height": null,
            "min_height": null,
            "padding": null,
            "grid_auto_rows": null,
            "grid_gap": null,
            "max_width": null,
            "order": null,
            "_view_module_version": "1.2.0",
            "grid_template_areas": null,
            "object_position": null,
            "object_fit": null,
            "grid_auto_columns": null,
            "margin": null,
            "display": null,
            "left": null
          }
        },
        "cbc8a9bcc07f44b2ae11f9eab740b8a2": {
          "model_module": "@jupyter-widgets/controls",
          "model_name": "DescriptionStyleModel",
          "model_module_version": "1.5.0",
          "state": {
            "_view_name": "StyleView",
            "_model_name": "DescriptionStyleModel",
            "description_width": "",
            "_view_module": "@jupyter-widgets/base",
            "_model_module_version": "1.5.0",
            "_view_count": null,
            "_view_module_version": "1.2.0",
            "_model_module": "@jupyter-widgets/controls"
          }
        },
        "0a5807ef3e644991878a0e046c55c825": {
          "model_module": "@jupyter-widgets/base",
          "model_name": "LayoutModel",
          "model_module_version": "1.2.0",
          "state": {
            "_view_name": "LayoutView",
            "grid_template_rows": null,
            "right": null,
            "justify_content": null,
            "_view_module": "@jupyter-widgets/base",
            "overflow": null,
            "_model_module_version": "1.2.0",
            "_view_count": null,
            "flex_flow": null,
            "width": null,
            "min_width": null,
            "border": null,
            "align_items": null,
            "bottom": null,
            "_model_module": "@jupyter-widgets/base",
            "top": null,
            "grid_column": null,
            "overflow_y": null,
            "overflow_x": null,
            "grid_auto_flow": null,
            "grid_area": null,
            "grid_template_columns": null,
            "flex": null,
            "_model_name": "LayoutModel",
            "justify_items": null,
            "grid_row": null,
            "max_height": null,
            "align_content": null,
            "visibility": null,
            "align_self": null,
            "height": null,
            "min_height": null,
            "padding": null,
            "grid_auto_rows": null,
            "grid_gap": null,
            "max_width": null,
            "order": null,
            "_view_module_version": "1.2.0",
            "grid_template_areas": null,
            "object_position": null,
            "object_fit": null,
            "grid_auto_columns": null,
            "margin": null,
            "display": null,
            "left": null
          }
        },
        "1ae3038ad6ed4635931c4c606a4fe640": {
          "model_module": "@jupyter-widgets/controls",
          "model_name": "ButtonStyleModel",
          "model_module_version": "1.5.0",
          "state": {
            "_view_name": "StyleView",
            "_model_name": "ButtonStyleModel",
            "_view_module": "@jupyter-widgets/base",
            "_model_module_version": "1.5.0",
            "_view_count": null,
            "button_color": null,
            "font_weight": "",
            "_view_module_version": "1.2.0",
            "_model_module": "@jupyter-widgets/controls"
          }
        },
        "49f14d0ef80b4134af8ad5211c12bc41": {
          "model_module": "@jupyter-widgets/base",
          "model_name": "LayoutModel",
          "model_module_version": "1.2.0",
          "state": {
            "_view_name": "LayoutView",
            "grid_template_rows": null,
            "right": null,
            "justify_content": null,
            "_view_module": "@jupyter-widgets/base",
            "overflow": null,
            "_model_module_version": "1.2.0",
            "_view_count": null,
            "flex_flow": null,
            "width": null,
            "min_width": null,
            "border": null,
            "align_items": null,
            "bottom": null,
            "_model_module": "@jupyter-widgets/base",
            "top": null,
            "grid_column": null,
            "overflow_y": null,
            "overflow_x": null,
            "grid_auto_flow": null,
            "grid_area": null,
            "grid_template_columns": null,
            "flex": null,
            "_model_name": "LayoutModel",
            "justify_items": null,
            "grid_row": null,
            "max_height": null,
            "align_content": null,
            "visibility": null,
            "align_self": null,
            "height": null,
            "min_height": null,
            "padding": null,
            "grid_auto_rows": null,
            "grid_gap": null,
            "max_width": null,
            "order": null,
            "_view_module_version": "1.2.0",
            "grid_template_areas": null,
            "object_position": null,
            "object_fit": null,
            "grid_auto_columns": null,
            "margin": null,
            "display": null,
            "left": null
          }
        },
        "f0da568a8b7e4664a1a20b8d6acee10a": {
          "model_module": "@jupyter-widgets/controls",
          "model_name": "VBoxModel",
          "model_module_version": "1.5.0",
          "state": {
            "_view_name": "VBoxView",
            "_dom_classes": [],
            "_model_name": "VBoxModel",
            "_view_module": "@jupyter-widgets/controls",
            "_model_module_version": "1.5.0",
            "_view_count": null,
            "_view_module_version": "1.5.0",
            "box_style": "",
            "layout": "IPY_MODEL_a35f95c86ff34a60ab8a6fa66f445ad0",
            "_model_module": "@jupyter-widgets/controls",
            "children": [
              "IPY_MODEL_96faa9cb605f479ab301834768e465b5",
              "IPY_MODEL_85704dbde05e4052ac1abbf66a273444",
              "IPY_MODEL_5b7f58d18bec42419697a7b4c832ae19"
            ]
          }
        },
        "96faa9cb605f479ab301834768e465b5": {
          "model_module": "@jupyter-widgets/controls",
          "model_name": "HTMLModel",
          "model_module_version": "1.5.0",
          "state": {
            "_view_name": "HTMLView",
            "style": "IPY_MODEL_f29e27eb16b349158bcbd62e0d599fde",
            "_dom_classes": [],
            "description": "",
            "_model_name": "HTMLModel",
            "placeholder": "​",
            "_view_module": "@jupyter-widgets/controls",
            "_model_module_version": "1.5.0",
            "value": "<center>\n<img src=https://huggingface.co/front/assets/huggingface_logo-noborder.svg alt='Hugging Face'>\n<br>\nImmediately click login after typing your password or it might be stored in plain text in this notebook file.\n</center>",
            "_view_count": null,
            "_view_module_version": "1.5.0",
            "description_tooltip": null,
            "_model_module": "@jupyter-widgets/controls",
            "layout": "IPY_MODEL_60d6aaf1c9dc4028b8bc4ba19831248d"
          }
        },
        "85704dbde05e4052ac1abbf66a273444": {
          "model_module": "@jupyter-widgets/controls",
          "model_name": "HBoxModel",
          "model_module_version": "1.5.0",
          "state": {
            "_view_name": "HBoxView",
            "_dom_classes": [],
            "_model_name": "HBoxModel",
            "_view_module": "@jupyter-widgets/controls",
            "_model_module_version": "1.5.0",
            "_view_count": null,
            "_view_module_version": "1.5.0",
            "box_style": "",
            "layout": "IPY_MODEL_7d4cbdd70f904c76a3a00b6b3749d1d9",
            "_model_module": "@jupyter-widgets/controls",
            "children": [
              "IPY_MODEL_6f635ddeccf8448893ebfee967278a64",
              "IPY_MODEL_97755b3910c74bf1bb7fc297f170ba98"
            ]
          }
        },
        "5b7f58d18bec42419697a7b4c832ae19": {
          "model_module": "@jupyter-widgets/controls",
          "model_name": "ButtonModel",
          "model_module_version": "1.5.0",
          "state": {
            "_view_name": "ButtonView",
            "style": "IPY_MODEL_6806d09b32d34bd299c4d9b8eec44bd6",
            "_dom_classes": [],
            "description": "Login",
            "_model_name": "ButtonModel",
            "button_style": "",
            "_view_module": "@jupyter-widgets/controls",
            "_model_module_version": "1.5.0",
            "tooltip": "",
            "_view_count": null,
            "disabled": false,
            "_view_module_version": "1.5.0",
            "layout": "IPY_MODEL_9525f28bfc82442ba0da898506f87c13",
            "_model_module": "@jupyter-widgets/controls",
            "icon": ""
          }
        },
        "f29e27eb16b349158bcbd62e0d599fde": {
          "model_module": "@jupyter-widgets/controls",
          "model_name": "DescriptionStyleModel",
          "model_module_version": "1.5.0",
          "state": {
            "_view_name": "StyleView",
            "_model_name": "DescriptionStyleModel",
            "description_width": "",
            "_view_module": "@jupyter-widgets/base",
            "_model_module_version": "1.5.0",
            "_view_count": null,
            "_view_module_version": "1.2.0",
            "_model_module": "@jupyter-widgets/controls"
          }
        },
        "60d6aaf1c9dc4028b8bc4ba19831248d": {
          "model_module": "@jupyter-widgets/base",
          "model_name": "LayoutModel",
          "model_module_version": "1.2.0",
          "state": {
            "_view_name": "LayoutView",
            "grid_template_rows": null,
            "right": null,
            "justify_content": null,
            "_view_module": "@jupyter-widgets/base",
            "overflow": null,
            "_model_module_version": "1.2.0",
            "_view_count": null,
            "flex_flow": null,
            "width": null,
            "min_width": null,
            "border": null,
            "align_items": null,
            "bottom": null,
            "_model_module": "@jupyter-widgets/base",
            "top": null,
            "grid_column": null,
            "overflow_y": null,
            "overflow_x": null,
            "grid_auto_flow": null,
            "grid_area": null,
            "grid_template_columns": null,
            "flex": null,
            "_model_name": "LayoutModel",
            "justify_items": null,
            "grid_row": null,
            "max_height": null,
            "align_content": null,
            "visibility": null,
            "align_self": null,
            "height": null,
            "min_height": null,
            "padding": null,
            "grid_auto_rows": null,
            "grid_gap": null,
            "max_width": null,
            "order": null,
            "_view_module_version": "1.2.0",
            "grid_template_areas": null,
            "object_position": null,
            "object_fit": null,
            "grid_auto_columns": null,
            "margin": null,
            "display": null,
            "left": null
          }
        },
        "7d4cbdd70f904c76a3a00b6b3749d1d9": {
          "model_module": "@jupyter-widgets/base",
          "model_name": "LayoutModel",
          "model_module_version": "1.2.0",
          "state": {
            "_view_name": "LayoutView",
            "grid_template_rows": null,
            "right": null,
            "justify_content": null,
            "_view_module": "@jupyter-widgets/base",
            "overflow": null,
            "_model_module_version": "1.2.0",
            "_view_count": null,
            "flex_flow": null,
            "width": null,
            "min_width": null,
            "border": null,
            "align_items": null,
            "bottom": null,
            "_model_module": "@jupyter-widgets/base",
            "top": null,
            "grid_column": null,
            "overflow_y": null,
            "overflow_x": null,
            "grid_auto_flow": null,
            "grid_area": null,
            "grid_template_columns": null,
            "flex": null,
            "_model_name": "LayoutModel",
            "justify_items": null,
            "grid_row": null,
            "max_height": null,
            "align_content": null,
            "visibility": null,
            "align_self": null,
            "height": null,
            "min_height": null,
            "padding": null,
            "grid_auto_rows": null,
            "grid_gap": null,
            "max_width": null,
            "order": null,
            "_view_module_version": "1.2.0",
            "grid_template_areas": null,
            "object_position": null,
            "object_fit": null,
            "grid_auto_columns": null,
            "margin": null,
            "display": null,
            "left": null
          }
        },
        "6f635ddeccf8448893ebfee967278a64": {
          "model_module": "@jupyter-widgets/controls",
          "model_name": "TextModel",
          "model_module_version": "1.5.0",
          "state": {
            "_view_name": "TextView",
            "style": "IPY_MODEL_bf16c49946b5494aa310f139b18ac1f2",
            "_dom_classes": [],
            "description": "Username:",
            "_model_name": "TextModel",
            "placeholder": "​",
            "_view_module": "@jupyter-widgets/controls",
            "_model_module_version": "1.5.0",
            "value": "tdubon",
            "_view_count": null,
            "disabled": false,
            "_view_module_version": "1.5.0",
            "continuous_update": true,
            "description_tooltip": null,
            "_model_module": "@jupyter-widgets/controls",
            "layout": "IPY_MODEL_3932a3d5410e4fa9907e5eeeb89e54bb"
          }
        },
        "97755b3910c74bf1bb7fc297f170ba98": {
          "model_module": "@jupyter-widgets/controls",
          "model_name": "PasswordModel",
          "model_module_version": "1.5.0",
          "state": {
            "_view_name": "PasswordView",
            "style": "IPY_MODEL_8fa723b79c96472887008682471a657f",
            "_dom_classes": [],
            "description": "Password:",
            "_model_name": "PasswordModel",
            "placeholder": "​",
            "_view_module": "@jupyter-widgets/controls",
            "_model_module_version": "1.5.0",
            "value": "",
            "_view_count": null,
            "disabled": false,
            "_view_module_version": "1.5.0",
            "continuous_update": true,
            "description_tooltip": null,
            "_model_module": "@jupyter-widgets/controls",
            "layout": "IPY_MODEL_c7a2c8ab70b645a5859e2a426af66f78"
          }
        },
        "6806d09b32d34bd299c4d9b8eec44bd6": {
          "model_module": "@jupyter-widgets/controls",
          "model_name": "ButtonStyleModel",
          "model_module_version": "1.5.0",
          "state": {
            "_view_name": "StyleView",
            "_model_name": "ButtonStyleModel",
            "_view_module": "@jupyter-widgets/base",
            "_model_module_version": "1.5.0",
            "_view_count": null,
            "button_color": null,
            "font_weight": "",
            "_view_module_version": "1.2.0",
            "_model_module": "@jupyter-widgets/controls"
          }
        },
        "9525f28bfc82442ba0da898506f87c13": {
          "model_module": "@jupyter-widgets/base",
          "model_name": "LayoutModel",
          "model_module_version": "1.2.0",
          "state": {
            "_view_name": "LayoutView",
            "grid_template_rows": null,
            "right": null,
            "justify_content": null,
            "_view_module": "@jupyter-widgets/base",
            "overflow": null,
            "_model_module_version": "1.2.0",
            "_view_count": null,
            "flex_flow": null,
            "width": null,
            "min_width": null,
            "border": null,
            "align_items": null,
            "bottom": null,
            "_model_module": "@jupyter-widgets/base",
            "top": null,
            "grid_column": null,
            "overflow_y": null,
            "overflow_x": null,
            "grid_auto_flow": null,
            "grid_area": null,
            "grid_template_columns": null,
            "flex": null,
            "_model_name": "LayoutModel",
            "justify_items": null,
            "grid_row": null,
            "max_height": null,
            "align_content": null,
            "visibility": null,
            "align_self": null,
            "height": null,
            "min_height": null,
            "padding": null,
            "grid_auto_rows": null,
            "grid_gap": null,
            "max_width": null,
            "order": null,
            "_view_module_version": "1.2.0",
            "grid_template_areas": null,
            "object_position": null,
            "object_fit": null,
            "grid_auto_columns": null,
            "margin": null,
            "display": null,
            "left": null
          }
        },
        "bf16c49946b5494aa310f139b18ac1f2": {
          "model_module": "@jupyter-widgets/controls",
          "model_name": "DescriptionStyleModel",
          "model_module_version": "1.5.0",
          "state": {
            "_view_name": "StyleView",
            "_model_name": "DescriptionStyleModel",
            "description_width": "",
            "_view_module": "@jupyter-widgets/base",
            "_model_module_version": "1.5.0",
            "_view_count": null,
            "_view_module_version": "1.2.0",
            "_model_module": "@jupyter-widgets/controls"
          }
        },
        "3932a3d5410e4fa9907e5eeeb89e54bb": {
          "model_module": "@jupyter-widgets/base",
          "model_name": "LayoutModel",
          "model_module_version": "1.2.0",
          "state": {
            "_view_name": "LayoutView",
            "grid_template_rows": null,
            "right": null,
            "justify_content": null,
            "_view_module": "@jupyter-widgets/base",
            "overflow": null,
            "_model_module_version": "1.2.0",
            "_view_count": null,
            "flex_flow": null,
            "width": null,
            "min_width": null,
            "border": null,
            "align_items": null,
            "bottom": null,
            "_model_module": "@jupyter-widgets/base",
            "top": null,
            "grid_column": null,
            "overflow_y": null,
            "overflow_x": null,
            "grid_auto_flow": null,
            "grid_area": null,
            "grid_template_columns": null,
            "flex": null,
            "_model_name": "LayoutModel",
            "justify_items": null,
            "grid_row": null,
            "max_height": null,
            "align_content": null,
            "visibility": null,
            "align_self": null,
            "height": null,
            "min_height": null,
            "padding": null,
            "grid_auto_rows": null,
            "grid_gap": null,
            "max_width": null,
            "order": null,
            "_view_module_version": "1.2.0",
            "grid_template_areas": null,
            "object_position": null,
            "object_fit": null,
            "grid_auto_columns": null,
            "margin": null,
            "display": null,
            "left": null
          }
        },
        "8fa723b79c96472887008682471a657f": {
          "model_module": "@jupyter-widgets/controls",
          "model_name": "DescriptionStyleModel",
          "model_module_version": "1.5.0",
          "state": {
            "_view_name": "StyleView",
            "_model_name": "DescriptionStyleModel",
            "description_width": "",
            "_view_module": "@jupyter-widgets/base",
            "_model_module_version": "1.5.0",
            "_view_count": null,
            "_view_module_version": "1.2.0",
            "_model_module": "@jupyter-widgets/controls"
          }
        },
        "c7a2c8ab70b645a5859e2a426af66f78": {
          "model_module": "@jupyter-widgets/base",
          "model_name": "LayoutModel",
          "model_module_version": "1.2.0",
          "state": {
            "_view_name": "LayoutView",
            "grid_template_rows": null,
            "right": null,
            "justify_content": null,
            "_view_module": "@jupyter-widgets/base",
            "overflow": null,
            "_model_module_version": "1.2.0",
            "_view_count": null,
            "flex_flow": null,
            "width": null,
            "min_width": null,
            "border": null,
            "align_items": null,
            "bottom": null,
            "_model_module": "@jupyter-widgets/base",
            "top": null,
            "grid_column": null,
            "overflow_y": null,
            "overflow_x": null,
            "grid_auto_flow": null,
            "grid_area": null,
            "grid_template_columns": null,
            "flex": null,
            "_model_name": "LayoutModel",
            "justify_items": null,
            "grid_row": null,
            "max_height": null,
            "align_content": null,
            "visibility": null,
            "align_self": null,
            "height": null,
            "min_height": null,
            "padding": null,
            "grid_auto_rows": null,
            "grid_gap": null,
            "max_width": null,
            "order": null,
            "_view_module_version": "1.2.0",
            "grid_template_areas": null,
            "object_position": null,
            "object_fit": null,
            "grid_auto_columns": null,
            "margin": null,
            "display": null,
            "left": null
          }
        }
      }
    }
  },
  "cells": [
    {
      "cell_type": "markdown",
      "metadata": {
        "id": "view-in-github",
        "colab_type": "text"
      },
      "source": [
        "<a href=\"https://colab.research.google.com/github/tdubon/TF-Decision-Forest/blob/main/TFDecisionTrees.ipynb\" target=\"_parent\"><img src=\"https://colab.research.google.com/assets/colab-badge.svg\" alt=\"Open In Colab\"/></a>"
      ]
    },
    {
      "cell_type": "markdown",
      "source": [
        "# Classification with TF Decision Trees\n",
        "Source code from https://keras.io/examples/structured_data/classification_with_tfdf/"
      ],
      "metadata": {
        "id": "yF3bjhkdylqP"
      }
    },
    {
      "cell_type": "code",
      "source": [
        "!pip install huggingface_hub"
      ],
      "metadata": {
        "colab": {
          "base_uri": "https://localhost:8080/"
        },
        "id": "va3EN2aRGAj0",
        "outputId": "ef9403c3-ffd9-45c2-c7eb-465a53c98fa4"
      },
      "execution_count": 1,
      "outputs": [
        {
          "output_type": "stream",
          "name": "stdout",
          "text": [
            "Requirement already satisfied: huggingface_hub in /usr/local/lib/python3.7/dist-packages (0.4.0)\n",
            "Requirement already satisfied: packaging>=20.9 in /usr/local/lib/python3.7/dist-packages (from huggingface_hub) (21.3)\n",
            "Requirement already satisfied: filelock in /usr/local/lib/python3.7/dist-packages (from huggingface_hub) (3.4.2)\n",
            "Requirement already satisfied: typing-extensions>=3.7.4.3 in /usr/local/lib/python3.7/dist-packages (from huggingface_hub) (3.10.0.2)\n",
            "Requirement already satisfied: tqdm in /usr/local/lib/python3.7/dist-packages (from huggingface_hub) (4.62.3)\n",
            "Requirement already satisfied: requests in /usr/local/lib/python3.7/dist-packages (from huggingface_hub) (2.23.0)\n",
            "Requirement already satisfied: importlib-metadata in /usr/local/lib/python3.7/dist-packages (from huggingface_hub) (4.10.1)\n",
            "Requirement already satisfied: pyyaml in /usr/local/lib/python3.7/dist-packages (from huggingface_hub) (3.13)\n",
            "Requirement already satisfied: pyparsing!=3.0.5,>=2.0.2 in /usr/local/lib/python3.7/dist-packages (from packaging>=20.9->huggingface_hub) (3.0.7)\n",
            "Requirement already satisfied: zipp>=0.5 in /usr/local/lib/python3.7/dist-packages (from importlib-metadata->huggingface_hub) (3.7.0)\n",
            "Requirement already satisfied: chardet<4,>=3.0.2 in /usr/local/lib/python3.7/dist-packages (from requests->huggingface_hub) (3.0.4)\n",
            "Requirement already satisfied: idna<3,>=2.5 in /usr/local/lib/python3.7/dist-packages (from requests->huggingface_hub) (2.10)\n",
            "Requirement already satisfied: urllib3!=1.25.0,!=1.25.1,<1.26,>=1.21.1 in /usr/local/lib/python3.7/dist-packages (from requests->huggingface_hub) (1.24.3)\n",
            "Requirement already satisfied: certifi>=2017.4.17 in /usr/local/lib/python3.7/dist-packages (from requests->huggingface_hub) (2021.10.8)\n"
          ]
        }
      ]
    },
    {
      "cell_type": "code",
      "source": [
        "from huggingface_hub import notebook_login\n",
        "\n",
        "notebook_login()"
      ],
      "metadata": {
        "colab": {
          "base_uri": "https://localhost:8080/",
          "height": 240,
          "referenced_widgets": [
            "d0dd7bc222f447af9e864b19c3075962",
            "a35f95c86ff34a60ab8a6fa66f445ad0",
            "bab78e6b1d5d4055b254496c606744e3",
            "b85197b2b2dc4e768e45648226f82f7c",
            "3bec8a0f68984bccbde9b79e8a988ff8",
            "81d15f45ea4c4c829716ade67f2cb65b",
            "f28c3a1faa0f4602b521f03fead1d6e6",
            "aee71589b7a445a59fc246640ee6dc3d",
            "07c57f05b82f42f0a6d8af2c87f585b7",
            "b7ecfd4804fa499bba640e454f114c5d",
            "9c5059c2899742f9929d6b57cb579ec5",
            "821907ad4acc49909fe64809519c5135",
            "0ac87a81a9f34382822215293431a8bd",
            "cbc8a9bcc07f44b2ae11f9eab740b8a2",
            "0a5807ef3e644991878a0e046c55c825",
            "1ae3038ad6ed4635931c4c606a4fe640",
            "49f14d0ef80b4134af8ad5211c12bc41",
            "f0da568a8b7e4664a1a20b8d6acee10a",
            "96faa9cb605f479ab301834768e465b5",
            "85704dbde05e4052ac1abbf66a273444",
            "5b7f58d18bec42419697a7b4c832ae19",
            "f29e27eb16b349158bcbd62e0d599fde",
            "60d6aaf1c9dc4028b8bc4ba19831248d",
            "7d4cbdd70f904c76a3a00b6b3749d1d9",
            "6f635ddeccf8448893ebfee967278a64",
            "97755b3910c74bf1bb7fc297f170ba98",
            "6806d09b32d34bd299c4d9b8eec44bd6",
            "9525f28bfc82442ba0da898506f87c13",
            "bf16c49946b5494aa310f139b18ac1f2",
            "3932a3d5410e4fa9907e5eeeb89e54bb",
            "8fa723b79c96472887008682471a657f",
            "c7a2c8ab70b645a5859e2a426af66f78"
          ]
        },
        "id": "aUbSq698F6nB",
        "outputId": "620d4b8d-6f62-48c3-c2c3-3f82915ea664"
      },
      "execution_count": 2,
      "outputs": [
        {
          "output_type": "stream",
          "name": "stderr",
          "text": [
            "ERROR:root:HfApi.login: This method is deprecated in favor of `set_access_token`.\n"
          ]
        },
        {
          "output_type": "stream",
          "name": "stdout",
          "text": [
            "Login successful\n",
            "Your token has been saved to /root/.huggingface/token\n",
            "\u001b[1m\u001b[31mAuthenticated through git-credential store but this isn't the helper defined on your machine.\n",
            "You might have to re-authenticate when pushing to the Hugging Face Hub. Run the following command in your terminal in case you want to set this credential helper as the default\n",
            "\n",
            "git config --global credential.helper store\u001b[0m\n"
          ]
        }
      ]
    },
    {
      "cell_type": "code",
      "source": [
        "!pip install -U tensorflow_decision_forests"
      ],
      "metadata": {
        "id": "ZWA4QL6uy0r4"
      },
      "execution_count": null,
      "outputs": []
    },
    {
      "cell_type": "code",
      "source": [
        "!pip install tensorflow==2.8.0"
      ],
      "metadata": {
        "id": "4bKMv9ftXH43"
      },
      "execution_count": null,
      "outputs": []
    },
    {
      "cell_type": "code",
      "source": [
        "#!pip install ipykernel==4.10"
      ],
      "metadata": {
        "id": "STU_6dlAX4v7"
      },
      "execution_count": null,
      "outputs": []
    },
    {
      "cell_type": "code",
      "source": [
        "#!pip install numpy==1.20"
      ],
      "metadata": {
        "id": "hFJSAqm4gwVd"
      },
      "execution_count": null,
      "outputs": []
    },
    {
      "cell_type": "code",
      "source": [
        "#!pip install ipython==5.5.0"
      ],
      "metadata": {
        "id": "vrVhkrV8YPRz"
      },
      "execution_count": null,
      "outputs": []
    },
    {
      "cell_type": "code",
      "source": [
        "#!pip install folium==0.2.1"
      ],
      "metadata": {
        "id": "X_o4cHqgg42J"
      },
      "execution_count": null,
      "outputs": []
    },
    {
      "cell_type": "code",
      "source": [
        "#!pip install imgaug==0.2.7"
      ],
      "metadata": {
        "id": "kMH1KKI4hACN"
      },
      "execution_count": null,
      "outputs": []
    },
    {
      "cell_type": "code",
      "source": [
        "import math\n",
        "import urllib\n",
        "import numpy as np\n",
        "import pandas as pd\n",
        "import tensorflow as tf\n",
        "from tensorflow import keras\n",
        "from tensorflow.keras import layers\n",
        "import tensorflow_decision_forests as tfdf\n"
      ],
      "metadata": {
        "id": "l2rrOS095XCq",
        "colab": {
          "base_uri": "https://localhost:8080/"
        },
        "outputId": "fe425ce1-7b1a-445c-9583-d4afcbe6432d"
      },
      "execution_count": 5,
      "outputs": [
        {
          "output_type": "stream",
          "name": "stderr",
          "text": [
            "WARNING:root:TF Parameter Server distributed training not available (this is expected for the pre-build release).\n"
          ]
        }
      ]
    },
    {
      "cell_type": "code",
      "source": [
        "input_path = \"https://archive.ics.uci.edu/ml/machine-learning-databases/census-income-mld/census-income\"\n",
        "input_column_header = \"income_level\"\n"
      ],
      "metadata": {
        "id": "l8mDDcjSiRXz"
      },
      "execution_count": 6,
      "outputs": []
    },
    {
      "cell_type": "code",
      "source": [
        "#Load data\n",
        "\n",
        "BASE_PATH = input_path\n",
        "CSV_HEADER = [ l.decode(\"utf-8\").split(\":\")[0].replace(\" \", \"_\")\n",
        "  for l in urllib.request.urlopen(f\"{BASE_PATH}.names\")\n",
        "  if not l.startswith(b\"|\")][2:]\n",
        "\n",
        "CSV_HEADER.append(input_column_header)\n",
        "\n",
        "train_data = pd.read_csv(f\"{BASE_PATH}.data.gz\", header=None, names=CSV_HEADER)\n",
        "test_data = pd.read_csv(f\"{BASE_PATH}.test.gz\", header=None, names=CSV_HEADER)"
      ],
      "metadata": {
        "id": "dERuHCWf5XR5"
      },
      "execution_count": 7,
      "outputs": []
    },
    {
      "cell_type": "code",
      "source": [
        "#convert from string to integers\n",
        "target_labels = [\" - 50000.\", \" 50000+.\"]\n",
        "train_data[input_column_header] = train_data[input_column_header].map(target_labels.index)\n",
        "test_data[input_column_header] = test_data[input_column_header].map(target_labels.index)"
      ],
      "metadata": {
        "id": "-s7hgWhv5Xi_"
      },
      "execution_count": 8,
      "outputs": []
    },
    {
      "cell_type": "code",
      "source": [
        "#Observe shape of training and test data\n",
        "print(f\"Train data shape: {train_data.shape}\")\n",
        "print(f\"Test data shape: {test_data.shape}\")\n",
        "print(train_data.head().T)"
      ],
      "metadata": {
        "id": "wlxsGTnVVIEi"
      },
      "execution_count": null,
      "outputs": []
    },
    {
      "cell_type": "code",
      "source": [
        "#define metadata\n",
        "\n",
        "# Target column name.\n",
        "TARGET_COLUMN_NAME = \"income_level\"\n",
        "# Weight column name.\n",
        "WEIGHT_COLUMN_NAME = \"instance_weight\"\n",
        "# Numeric feature names.\n",
        "NUMERIC_FEATURE_NAMES = [\n",
        "    \"age\",\n",
        "    \"wage_per_hour\",\n",
        "    \"capital_gains\",\n",
        "    \"capital_losses\",\n",
        "    \"dividends_from_stocks\",\n",
        "    \"num_persons_worked_for_employer\",\n",
        "    \"weeks_worked_in_year\",\n",
        "]\n",
        "\n",
        "# Categorical features and their vocabulary lists.\n",
        "CATEGORICAL_FEATURES_WITH_VOCABULARY = {\n",
        "    feature_name: sorted(\n",
        "        [str(value) for value in list(train_data[feature_name].unique())]\n",
        "    )\n",
        "    for feature_name in CSV_HEADER\n",
        "    if feature_name\n",
        "    not in list(NUMERIC_FEATURE_NAMES + [WEIGHT_COLUMN_NAME, TARGET_COLUMN_NAME])\n",
        "}\n",
        "# All features names.\n",
        "FEATURE_NAMES = NUMERIC_FEATURE_NAMES + list(\n",
        "    CATEGORICAL_FEATURES_WITH_VOCABULARY.keys()\n",
        ")"
      ],
      "metadata": {
        "id": "y0aYaRRjVIQN"
      },
      "execution_count": 10,
      "outputs": []
    },
    {
      "cell_type": "markdown",
      "source": [
        "Configure hyperparameters for the tree model."
      ],
      "metadata": {
        "id": "InpzY04D1CZ-"
      }
    },
    {
      "cell_type": "code",
      "source": [
        "GROWING_STRATEGY = \"BEST_FIRST_GLOBAL\"\n",
        "NUM_TREES = 250\n",
        "MIN_EXAMPLES = 6\n",
        "MAX_DEPTH = 5\n",
        "SUBSAMPLE = 0.65\n",
        "SAMPLING_METHOD = \"RANDOM\"\n",
        "VALIDATION_RATIO = 0.1"
      ],
      "metadata": {
        "id": "kz0XxQed1dW8"
      },
      "execution_count": 11,
      "outputs": []
    },
    {
      "cell_type": "code",
      "source": [
        "#Implement training & evaluation procedure\n",
        "def prepare_sample(features, target, weight):\n",
        "    for feature_name in features:\n",
        "        if feature_name in CATEGORICAL_FEATURES_WITH_VOCABULARY:\n",
        "            if features[feature_name].dtype != tf.dtypes.string:\n",
        "                # Convert categorical feature values to string.\n",
        "                features[feature_name] = tf.strings.as_string(features[feature_name])\n",
        "    return features, target, weight\n",
        "\n",
        "\n",
        "def run_experiment(model, train_data, test_data, num_epochs=1, batch_size=None):\n",
        "\n",
        "    train_dataset = tfdf.keras.pd_dataframe_to_tf_dataset(\n",
        "        train_data, label=TARGET_COLUMN_NAME, weight=WEIGHT_COLUMN_NAME\n",
        "    ).map(prepare_sample, num_parallel_calls=tf.data.AUTOTUNE)\n",
        "    test_dataset = tfdf.keras.pd_dataframe_to_tf_dataset(\n",
        "        test_data, label=TARGET_COLUMN_NAME, weight=WEIGHT_COLUMN_NAME\n",
        "    ).map(prepare_sample, num_parallel_calls=tf.data.AUTOTUNE)\n",
        "\n",
        "    model.fit(train_dataset, epochs=num_epochs, batch_size=batch_size)\n",
        "    _, accuracy = model.evaluate(test_dataset, verbose=0)\n",
        "    print(f\"Test accuracy: {round(accuracy * 100, 2)}%\")\n",
        "    push_to_hub = True"
      ],
      "metadata": {
        "id": "c4VhjQKBWmW2"
      },
      "execution_count": 12,
      "outputs": []
    },
    {
      "cell_type": "code",
      "source": [
        "#Create model inputs\n",
        "\n",
        "def create_model_inputs():\n",
        "    inputs = {}\n",
        "    for feature_name in FEATURE_NAMES:\n",
        "        if feature_name in NUMERIC_FEATURE_NAMES:\n",
        "            inputs[feature_name] = layers.Input(\n",
        "                name=feature_name, shape=(), dtype=tf.float32\n",
        "            )\n",
        "        else:\n",
        "            inputs[feature_name] = layers.Input(\n",
        "                name=feature_name, shape=(), dtype=tf.string\n",
        "            )\n",
        "    return inputs"
      ],
      "metadata": {
        "id": "yIJ7qRNuXhIO"
      },
      "execution_count": 13,
      "outputs": []
    },
    {
      "cell_type": "code",
      "source": [
        "inputs = create_model_inputs()\n",
        "print(inputs)"
      ],
      "metadata": {
        "colab": {
          "base_uri": "https://localhost:8080/"
        },
        "id": "4kc7FZMnt8JS",
        "outputId": "77e3c603-b08d-4958-9310-aaf065df6afc"
      },
      "execution_count": 14,
      "outputs": [
        {
          "output_type": "stream",
          "name": "stdout",
          "text": [
            "{'age': <KerasTensor: shape=(None,) dtype=float32 (created by layer 'age')>, 'wage_per_hour': <KerasTensor: shape=(None,) dtype=float32 (created by layer 'wage_per_hour')>, 'capital_gains': <KerasTensor: shape=(None,) dtype=float32 (created by layer 'capital_gains')>, 'capital_losses': <KerasTensor: shape=(None,) dtype=float32 (created by layer 'capital_losses')>, 'dividends_from_stocks': <KerasTensor: shape=(None,) dtype=float32 (created by layer 'dividends_from_stocks')>, 'num_persons_worked_for_employer': <KerasTensor: shape=(None,) dtype=float32 (created by layer 'num_persons_worked_for_employer')>, 'weeks_worked_in_year': <KerasTensor: shape=(None,) dtype=float32 (created by layer 'weeks_worked_in_year')>, 'class_of_worker': <KerasTensor: shape=(None,) dtype=string (created by layer 'class_of_worker')>, 'detailed_industry_recode': <KerasTensor: shape=(None,) dtype=string (created by layer 'detailed_industry_recode')>, 'detailed_occupation_recode': <KerasTensor: shape=(None,) dtype=string (created by layer 'detailed_occupation_recode')>, 'education': <KerasTensor: shape=(None,) dtype=string (created by layer 'education')>, 'enroll_in_edu_inst_last_wk': <KerasTensor: shape=(None,) dtype=string (created by layer 'enroll_in_edu_inst_last_wk')>, 'marital_stat': <KerasTensor: shape=(None,) dtype=string (created by layer 'marital_stat')>, 'major_industry_code': <KerasTensor: shape=(None,) dtype=string (created by layer 'major_industry_code')>, 'major_occupation_code': <KerasTensor: shape=(None,) dtype=string (created by layer 'major_occupation_code')>, 'race': <KerasTensor: shape=(None,) dtype=string (created by layer 'race')>, 'hispanic_origin': <KerasTensor: shape=(None,) dtype=string (created by layer 'hispanic_origin')>, 'sex': <KerasTensor: shape=(None,) dtype=string (created by layer 'sex')>, 'member_of_a_labor_union': <KerasTensor: shape=(None,) dtype=string (created by layer 'member_of_a_labor_union')>, 'reason_for_unemployment': <KerasTensor: shape=(None,) dtype=string (created by layer 'reason_for_unemployment')>, 'full_or_part_time_employment_stat': <KerasTensor: shape=(None,) dtype=string (created by layer 'full_or_part_time_employment_stat')>, 'tax_filer_stat': <KerasTensor: shape=(None,) dtype=string (created by layer 'tax_filer_stat')>, 'region_of_previous_residence': <KerasTensor: shape=(None,) dtype=string (created by layer 'region_of_previous_residence')>, 'state_of_previous_residence': <KerasTensor: shape=(None,) dtype=string (created by layer 'state_of_previous_residence')>, 'detailed_household_and_family_stat': <KerasTensor: shape=(None,) dtype=string (created by layer 'detailed_household_and_family_stat')>, 'detailed_household_summary_in_household': <KerasTensor: shape=(None,) dtype=string (created by layer 'detailed_household_summary_in_household')>, 'migration_code-change_in_msa': <KerasTensor: shape=(None,) dtype=string (created by layer 'migration_code-change_in_msa')>, 'migration_code-change_in_reg': <KerasTensor: shape=(None,) dtype=string (created by layer 'migration_code-change_in_reg')>, 'migration_code-move_within_reg': <KerasTensor: shape=(None,) dtype=string (created by layer 'migration_code-move_within_reg')>, 'live_in_this_house_1_year_ago': <KerasTensor: shape=(None,) dtype=string (created by layer 'live_in_this_house_1_year_ago')>, 'migration_prev_res_in_sunbelt': <KerasTensor: shape=(None,) dtype=string (created by layer 'migration_prev_res_in_sunbelt')>, 'family_members_under_18': <KerasTensor: shape=(None,) dtype=string (created by layer 'family_members_under_18')>, 'country_of_birth_father': <KerasTensor: shape=(None,) dtype=string (created by layer 'country_of_birth_father')>, 'country_of_birth_mother': <KerasTensor: shape=(None,) dtype=string (created by layer 'country_of_birth_mother')>, 'country_of_birth_self': <KerasTensor: shape=(None,) dtype=string (created by layer 'country_of_birth_self')>, 'citizenship': <KerasTensor: shape=(None,) dtype=string (created by layer 'citizenship')>, 'own_business_or_self_employed': <KerasTensor: shape=(None,) dtype=string (created by layer 'own_business_or_self_employed')>, \"fill_inc_questionnaire_for_veteran's_admin\": <KerasTensor: shape=(None,) dtype=string (created by layer 'fill_inc_questionnaire_for_veteran's_admin')>, 'veterans_benefits': <KerasTensor: shape=(None,) dtype=string (created by layer 'veterans_benefits')>, 'year': <KerasTensor: shape=(None,) dtype=string (created by layer 'year')>}\n"
          ]
        }
      ]
    },
    {
      "cell_type": "markdown",
      "source": [
        "# Experiment 1: Decision Forests with raw features"
      ],
      "metadata": {
        "id": "INT9MsPYmjjj"
      }
    },
    {
      "cell_type": "code",
      "source": [
        "#Decision Forest with raw features\n",
        "def specify_feature_usages(inputs):\n",
        "    feature_usages = []\n",
        "\n",
        "    for feature_name in inputs:\n",
        "        if inputs[feature_name].dtype == tf.dtypes.float32:\n",
        "            feature_usage = tfdf.keras.FeatureUsage(\n",
        "                name=feature_name, semantic=tfdf.keras.FeatureSemantic.NUMERICAL\n",
        "            )\n",
        "        else:\n",
        "            feature_usage = tfdf.keras.FeatureUsage(\n",
        "                name=feature_name, semantic=tfdf.keras.FeatureSemantic.CATEGORICAL\n",
        "            )\n",
        "\n",
        "        feature_usages.append(feature_usage)\n",
        "    return feature_usages\n",
        "  "
      ],
      "metadata": {
        "id": "ItzQUlwKXtWI"
      },
      "execution_count": 15,
      "outputs": []
    },
    {
      "cell_type": "code",
      "source": [
        "#Create GB trees model\n",
        "def create_gbt_model():\n",
        "    gbt_model = tfdf.keras.GradientBoostedTreesModel(\n",
        "        features = specify_feature_usages(create_model_inputs()),\n",
        "        exclude_non_specified_features = True,\n",
        "        growing_strategy = GROWING_STRATEGY,\n",
        "        num_trees = NUM_TREES,\n",
        "        max_depth = MAX_DEPTH,\n",
        "        min_examples = MIN_EXAMPLES,\n",
        "        subsample = SUBSAMPLE,\n",
        "        validation_ratio = VALIDATION_RATIO,\n",
        "        task = tfdf.keras.Task.CLASSIFICATION,\n",
        "        loss = \"DEFAULT\",\n",
        "    )\n",
        "\n",
        "    gbt_model.compile(metrics=[keras.metrics.BinaryAccuracy(name=\"accuracy\")])\n",
        "    return gbt_model "
      ],
      "metadata": {
        "id": "MpgXSFIbX7N2"
      },
      "execution_count": 16,
      "outputs": []
    },
    {
      "cell_type": "code",
      "source": [
        "#Train and evaluate model\n",
        "gbt_model = create_gbt_model()\n",
        "run_experiment(gbt_model, train_data, test_data)"
      ],
      "metadata": {
        "id": "HNFoDVNIYBO7",
        "colab": {
          "base_uri": "https://localhost:8080/"
        },
        "outputId": "551d2670-3d51-4f4d-e878-63094633cc2f"
      },
      "execution_count": 17,
      "outputs": [
        {
          "output_type": "stream",
          "name": "stdout",
          "text": [
            "Use /tmp/tmppdt8ubxd as temporary training directory\n"
          ]
        },
        {
          "output_type": "stream",
          "name": "stderr",
          "text": [
            "/usr/local/lib/python3.7/dist-packages/tensorflow_decision_forests/keras/core.py:2036: FutureWarning: In a future version of pandas all arguments of DataFrame.drop except for the argument 'labels' will be keyword-only\n",
            "  features_dataframe = dataframe.drop(label, 1)\n",
            "/usr/local/lib/python3.7/dist-packages/tensorflow_decision_forests/keras/core.py:2039: FutureWarning: In a future version of pandas all arguments of DataFrame.drop except for the argument 'labels' will be keyword-only\n",
            "  features_dataframe = features_dataframe.drop(weight, 1)\n"
          ]
        },
        {
          "output_type": "stream",
          "name": "stdout",
          "text": [
            "Starting reading the dataset\n",
            "199/200 [============================>.] - ETA: 0s\n",
            "Dataset read in 0:00:15.261020\n",
            "Training model\n",
            "Model trained in 0:01:43.841153\n",
            "Compiling model\n",
            "200/200 [==============================] - 119s 569ms/step\n"
          ]
        },
        {
          "output_type": "stream",
          "name": "stderr",
          "text": [
            "WARNING:tensorflow:AutoGraph could not transform <function simple_ml_inference_op_with_handle at 0x7fed3ae5ad40> and will run it as-is.\n",
            "Please report this to the TensorFlow team. When filing the bug, set the verbosity to 10 (on Linux, `export AUTOGRAPH_VERBOSITY=10`) and attach the full output.\n",
            "Cause: could not get source code\n",
            "To silence this warning, decorate the function with @tf.autograph.experimental.do_not_convert\n"
          ]
        },
        {
          "output_type": "stream",
          "name": "stdout",
          "text": [
            "WARNING: AutoGraph could not transform <function simple_ml_inference_op_with_handle at 0x7fed3ae5ad40> and will run it as-is.\n",
            "Please report this to the TensorFlow team. When filing the bug, set the verbosity to 10 (on Linux, `export AUTOGRAPH_VERBOSITY=10`) and attach the full output.\n",
            "Cause: could not get source code\n",
            "To silence this warning, decorate the function with @tf.autograph.experimental.do_not_convert\n",
            "Test accuracy: 95.79%\n"
          ]
        }
      ]
    },
    {
      "cell_type": "code",
      "source": [
        "#Inspect the model: Model type, mask, input features, feature importance\n",
        "print(gbt_model.summary())"
      ],
      "metadata": {
        "id": "d6z83VHwYGD3"
      },
      "execution_count": null,
      "outputs": []
    },
    {
      "cell_type": "code",
      "source": [
        "from huggingface_hub import push_to_hub_keras"
      ],
      "metadata": {
        "id": "_pEkCnbVIAeP"
      },
      "execution_count": 24,
      "outputs": []
    },
    {
      "cell_type": "code",
      "source": [
        "#Pushing modle to hub\n",
        "push_to_hub_keras(gbt_model, organization=\"keras-io\", repo_url=\"tdubon/Classification_TF_Forest\")"
      ],
      "metadata": {
        "colab": {
          "base_uri": "https://localhost:8080/",
          "height": 443
        },
        "id": "zgD2lD6xdFAa",
        "outputId": "798f362c-402d-4474-ff32-47c5837844bb"
      },
      "execution_count": 25,
      "outputs": [
        {
          "output_type": "error",
          "ename": "OSError",
          "evalue": "ignored",
          "traceback": [
            "\u001b[0;31m---------------------------------------------------------------------------\u001b[0m",
            "\u001b[0;31mFileNotFoundError\u001b[0m                         Traceback (most recent call last)",
            "\u001b[0;32m/usr/local/lib/python3.7/dist-packages/huggingface_hub/repository.py\u001b[0m in \u001b[0;36mcheck_git_versions\u001b[0;34m(self)\u001b[0m\n\u001b[1;32m    496\u001b[0m                 \u001b[0mstderr\u001b[0m\u001b[0;34m=\u001b[0m\u001b[0msubprocess\u001b[0m\u001b[0;34m.\u001b[0m\u001b[0mPIPE\u001b[0m\u001b[0;34m,\u001b[0m\u001b[0;34m\u001b[0m\u001b[0;34m\u001b[0m\u001b[0m\n\u001b[0;32m--> 497\u001b[0;31m                 \u001b[0mstdout\u001b[0m\u001b[0;34m=\u001b[0m\u001b[0msubprocess\u001b[0m\u001b[0;34m.\u001b[0m\u001b[0mPIPE\u001b[0m\u001b[0;34m,\u001b[0m\u001b[0;34m\u001b[0m\u001b[0;34m\u001b[0m\u001b[0m\n\u001b[0m\u001b[1;32m    498\u001b[0m             ).stdout.strip()\n",
            "\u001b[0;32m/usr/lib/python3.7/subprocess.py\u001b[0m in \u001b[0;36mrun\u001b[0;34m(input, capture_output, timeout, check, *popenargs, **kwargs)\u001b[0m\n\u001b[1;32m    487\u001b[0m \u001b[0;34m\u001b[0m\u001b[0m\n\u001b[0;32m--> 488\u001b[0;31m     \u001b[0;32mwith\u001b[0m \u001b[0mPopen\u001b[0m\u001b[0;34m(\u001b[0m\u001b[0;34m*\u001b[0m\u001b[0mpopenargs\u001b[0m\u001b[0;34m,\u001b[0m \u001b[0;34m**\u001b[0m\u001b[0mkwargs\u001b[0m\u001b[0;34m)\u001b[0m \u001b[0;32mas\u001b[0m \u001b[0mprocess\u001b[0m\u001b[0;34m:\u001b[0m\u001b[0;34m\u001b[0m\u001b[0;34m\u001b[0m\u001b[0m\n\u001b[0m\u001b[1;32m    489\u001b[0m         \u001b[0;32mtry\u001b[0m\u001b[0;34m:\u001b[0m\u001b[0;34m\u001b[0m\u001b[0;34m\u001b[0m\u001b[0m\n",
            "\u001b[0;32m/usr/lib/python3.7/subprocess.py\u001b[0m in \u001b[0;36m__init__\u001b[0;34m(self, args, bufsize, executable, stdin, stdout, stderr, preexec_fn, close_fds, shell, cwd, env, universal_newlines, startupinfo, creationflags, restore_signals, start_new_session, pass_fds, encoding, errors, text)\u001b[0m\n\u001b[1;32m    799\u001b[0m                                 \u001b[0merrread\u001b[0m\u001b[0;34m,\u001b[0m \u001b[0merrwrite\u001b[0m\u001b[0;34m,\u001b[0m\u001b[0;34m\u001b[0m\u001b[0;34m\u001b[0m\u001b[0m\n\u001b[0;32m--> 800\u001b[0;31m                                 restore_signals, start_new_session)\n\u001b[0m\u001b[1;32m    801\u001b[0m         \u001b[0;32mexcept\u001b[0m\u001b[0;34m:\u001b[0m\u001b[0;34m\u001b[0m\u001b[0;34m\u001b[0m\u001b[0m\n",
            "\u001b[0;32m/usr/lib/python3.7/subprocess.py\u001b[0m in \u001b[0;36m_execute_child\u001b[0;34m(self, args, executable, preexec_fn, close_fds, pass_fds, cwd, env, startupinfo, creationflags, shell, p2cread, p2cwrite, c2pread, c2pwrite, errread, errwrite, restore_signals, start_new_session)\u001b[0m\n\u001b[1;32m   1550\u001b[0m                             \u001b[0merr_msg\u001b[0m \u001b[0;34m+=\u001b[0m \u001b[0;34m': '\u001b[0m \u001b[0;34m+\u001b[0m \u001b[0mrepr\u001b[0m\u001b[0;34m(\u001b[0m\u001b[0merr_filename\u001b[0m\u001b[0;34m)\u001b[0m\u001b[0;34m\u001b[0m\u001b[0;34m\u001b[0m\u001b[0m\n\u001b[0;32m-> 1551\u001b[0;31m                     \u001b[0;32mraise\u001b[0m \u001b[0mchild_exception_type\u001b[0m\u001b[0;34m(\u001b[0m\u001b[0merrno_num\u001b[0m\u001b[0;34m,\u001b[0m \u001b[0merr_msg\u001b[0m\u001b[0;34m,\u001b[0m \u001b[0merr_filename\u001b[0m\u001b[0;34m)\u001b[0m\u001b[0;34m\u001b[0m\u001b[0;34m\u001b[0m\u001b[0m\n\u001b[0m\u001b[1;32m   1552\u001b[0m                 \u001b[0;32mraise\u001b[0m \u001b[0mchild_exception_type\u001b[0m\u001b[0;34m(\u001b[0m\u001b[0merr_msg\u001b[0m\u001b[0;34m)\u001b[0m\u001b[0;34m\u001b[0m\u001b[0;34m\u001b[0m\u001b[0m\n",
            "\u001b[0;31mFileNotFoundError\u001b[0m: [Errno 2] No such file or directory: 'git-lfs': 'git-lfs'",
            "\nDuring handling of the above exception, another exception occurred:\n",
            "\u001b[0;31mOSError\u001b[0m                                   Traceback (most recent call last)",
            "\u001b[0;32m<ipython-input-25-50c7cd724f78>\u001b[0m in \u001b[0;36m<module>\u001b[0;34m()\u001b[0m\n\u001b[1;32m      1\u001b[0m \u001b[0;31m#Pushing modle to hub\u001b[0m\u001b[0;34m\u001b[0m\u001b[0;34m\u001b[0m\u001b[0;34m\u001b[0m\u001b[0m\n\u001b[0;32m----> 2\u001b[0;31m \u001b[0mpush_to_hub_keras\u001b[0m\u001b[0;34m(\u001b[0m\u001b[0mgbt_model\u001b[0m\u001b[0;34m,\u001b[0m \u001b[0morganization\u001b[0m\u001b[0;34m=\u001b[0m\u001b[0;34m\"keras-io\"\u001b[0m\u001b[0;34m,\u001b[0m \u001b[0mrepo_url\u001b[0m\u001b[0;34m=\u001b[0m\u001b[0;34m\"tdubon/Classification_TF_Forest\"\u001b[0m\u001b[0;34m)\u001b[0m\u001b[0;34m\u001b[0m\u001b[0;34m\u001b[0m\u001b[0m\n\u001b[0m",
            "\u001b[0;32m/usr/local/lib/python3.7/dist-packages/huggingface_hub/keras_mixin.py\u001b[0m in \u001b[0;36mpush_to_hub_keras\u001b[0;34m(model, repo_path_or_name, repo_url, commit_message, organization, private, api_endpoint, use_auth_token, git_user, git_email, config)\u001b[0m\n\u001b[1;32m    147\u001b[0m         \u001b[0muse_auth_token\u001b[0m\u001b[0;34m=\u001b[0m\u001b[0muse_auth_token\u001b[0m\u001b[0;34m,\u001b[0m\u001b[0;34m\u001b[0m\u001b[0;34m\u001b[0m\u001b[0m\n\u001b[1;32m    148\u001b[0m         \u001b[0mgit_user\u001b[0m\u001b[0;34m=\u001b[0m\u001b[0mgit_user\u001b[0m\u001b[0;34m,\u001b[0m\u001b[0;34m\u001b[0m\u001b[0;34m\u001b[0m\u001b[0m\n\u001b[0;32m--> 149\u001b[0;31m         \u001b[0mgit_email\u001b[0m\u001b[0;34m=\u001b[0m\u001b[0mgit_email\u001b[0m\u001b[0;34m,\u001b[0m\u001b[0;34m\u001b[0m\u001b[0;34m\u001b[0m\u001b[0m\n\u001b[0m\u001b[1;32m    150\u001b[0m     )\n\u001b[1;32m    151\u001b[0m     \u001b[0mrepo\u001b[0m\u001b[0;34m.\u001b[0m\u001b[0mgit_pull\u001b[0m\u001b[0;34m(\u001b[0m\u001b[0mrebase\u001b[0m\u001b[0;34m=\u001b[0m\u001b[0;32mTrue\u001b[0m\u001b[0;34m)\u001b[0m\u001b[0;34m\u001b[0m\u001b[0;34m\u001b[0m\u001b[0m\n",
            "\u001b[0;32m/usr/local/lib/python3.7/dist-packages/huggingface_hub/repository.py\u001b[0m in \u001b[0;36m__init__\u001b[0;34m(self, local_dir, clone_from, repo_type, use_auth_token, git_user, git_email, revision, private, skip_lfs_files)\u001b[0m\n\u001b[1;32m    409\u001b[0m         \u001b[0mself\u001b[0m\u001b[0;34m.\u001b[0m\u001b[0mskip_lfs_files\u001b[0m \u001b[0;34m=\u001b[0m \u001b[0mskip_lfs_files\u001b[0m\u001b[0;34m\u001b[0m\u001b[0;34m\u001b[0m\u001b[0m\n\u001b[1;32m    410\u001b[0m \u001b[0;34m\u001b[0m\u001b[0m\n\u001b[0;32m--> 411\u001b[0;31m         \u001b[0mself\u001b[0m\u001b[0;34m.\u001b[0m\u001b[0mcheck_git_versions\u001b[0m\u001b[0;34m(\u001b[0m\u001b[0;34m)\u001b[0m\u001b[0;34m\u001b[0m\u001b[0;34m\u001b[0m\u001b[0m\n\u001b[0m\u001b[1;32m    412\u001b[0m \u001b[0;34m\u001b[0m\u001b[0m\n\u001b[1;32m    413\u001b[0m         \u001b[0;32mif\u001b[0m \u001b[0misinstance\u001b[0m\u001b[0;34m(\u001b[0m\u001b[0muse_auth_token\u001b[0m\u001b[0;34m,\u001b[0m \u001b[0mstr\u001b[0m\u001b[0;34m)\u001b[0m\u001b[0;34m:\u001b[0m\u001b[0;34m\u001b[0m\u001b[0;34m\u001b[0m\u001b[0m\n",
            "\u001b[0;32m/usr/local/lib/python3.7/dist-packages/huggingface_hub/repository.py\u001b[0m in \u001b[0;36mcheck_git_versions\u001b[0;34m(self)\u001b[0m\n\u001b[1;32m    499\u001b[0m         \u001b[0;32mexcept\u001b[0m \u001b[0mFileNotFoundError\u001b[0m\u001b[0;34m:\u001b[0m\u001b[0;34m\u001b[0m\u001b[0;34m\u001b[0m\u001b[0m\n\u001b[1;32m    500\u001b[0m             raise EnvironmentError(\n\u001b[0;32m--> 501\u001b[0;31m                 \u001b[0;34m\"Looks like you do not have git-lfs installed, please install.\"\u001b[0m\u001b[0;34m\u001b[0m\u001b[0;34m\u001b[0m\u001b[0m\n\u001b[0m\u001b[1;32m    502\u001b[0m                 \u001b[0;34m\" You can install from https://git-lfs.github.com/.\"\u001b[0m\u001b[0;34m\u001b[0m\u001b[0;34m\u001b[0m\u001b[0m\n\u001b[1;32m    503\u001b[0m                 \u001b[0;34m\" Then run `git lfs install` (you only have to do this once).\"\u001b[0m\u001b[0;34m\u001b[0m\u001b[0;34m\u001b[0m\u001b[0m\n",
            "\u001b[0;31mOSError\u001b[0m: Looks like you do not have git-lfs installed, please install. You can install from https://git-lfs.github.com/. Then run `git lfs install` (you only have to do this once)."
          ]
        }
      ]
    },
    {
      "cell_type": "code",
      "source": [
        "from huggingface_hub import upload_file\n",
        "with open(\"/tmp/README.md\", \"w+\") as f:\n",
        "  f.write(\"Classification with TF Decision Forests\")\n",
        "\n"
      ],
      "metadata": {
        "id": "ytlDSKmkKvVA"
      },
      "execution_count": 88,
      "outputs": []
    },
    {
      "cell_type": "code",
      "source": [
        "upload_file(\"/tmp/README.md\", \"README.md\", repo_id=\"tdubon/Classification_TF_Forest\")"
      ],
      "metadata": {
        "colab": {
          "base_uri": "https://localhost:8080/",
          "height": 307
        },
        "id": "e450eIa3MRk_",
        "outputId": "190ae6f0-b7ad-480f-8a77-20663e43ceb8"
      },
      "execution_count": 89,
      "outputs": [
        {
          "output_type": "error",
          "ename": "HTTPError",
          "evalue": "ignored",
          "traceback": [
            "\u001b[0;31m---------------------------------------------------------------------------\u001b[0m",
            "\u001b[0;31mHTTPError\u001b[0m                                 Traceback (most recent call last)",
            "\u001b[0;32m<ipython-input-89-c4ed40c1654e>\u001b[0m in \u001b[0;36m<module>\u001b[0;34m()\u001b[0m\n\u001b[0;32m----> 1\u001b[0;31m \u001b[0mupload_file\u001b[0m\u001b[0;34m(\u001b[0m\u001b[0;34m\"/tmp/README.md\"\u001b[0m\u001b[0;34m,\u001b[0m \u001b[0;34m\"README.md\"\u001b[0m\u001b[0;34m,\u001b[0m \u001b[0mrepo_id\u001b[0m\u001b[0;34m=\u001b[0m\u001b[0;34m\"tdubon/Classification_TF_Forest\"\u001b[0m\u001b[0;34m)\u001b[0m\u001b[0;34m\u001b[0m\u001b[0;34m\u001b[0m\u001b[0m\n\u001b[0m",
            "\u001b[0;32m/usr/local/lib/python3.7/dist-packages/huggingface_hub/hf_api.py\u001b[0m in \u001b[0;36mupload_file\u001b[0;34m(self, path_or_fileobj, path_in_repo, repo_id, token, repo_type, revision, identical_ok)\u001b[0m\n\u001b[1;32m   1344\u001b[0m                 )\n\u001b[1;32m   1345\u001b[0m             \u001b[0;32melse\u001b[0m\u001b[0;34m:\u001b[0m\u001b[0;34m\u001b[0m\u001b[0;34m\u001b[0m\u001b[0m\n\u001b[0;32m-> 1346\u001b[0;31m                 \u001b[0;32mraise\u001b[0m \u001b[0merr\u001b[0m\u001b[0;34m\u001b[0m\u001b[0;34m\u001b[0m\u001b[0m\n\u001b[0m\u001b[1;32m   1347\u001b[0m \u001b[0;34m\u001b[0m\u001b[0m\n\u001b[1;32m   1348\u001b[0m         \u001b[0md\u001b[0m \u001b[0;34m=\u001b[0m \u001b[0mr\u001b[0m\u001b[0;34m.\u001b[0m\u001b[0mjson\u001b[0m\u001b[0;34m(\u001b[0m\u001b[0;34m)\u001b[0m\u001b[0;34m\u001b[0m\u001b[0;34m\u001b[0m\u001b[0m\n",
            "\u001b[0;32m/usr/local/lib/python3.7/dist-packages/huggingface_hub/hf_api.py\u001b[0m in \u001b[0;36mupload_file\u001b[0;34m(self, path_or_fileobj, path_in_repo, repo_id, token, repo_type, revision, identical_ok)\u001b[0m\n\u001b[1;32m   1335\u001b[0m \u001b[0;34m\u001b[0m\u001b[0m\n\u001b[1;32m   1336\u001b[0m         \u001b[0;32mtry\u001b[0m\u001b[0;34m:\u001b[0m\u001b[0;34m\u001b[0m\u001b[0;34m\u001b[0m\u001b[0m\n\u001b[0;32m-> 1337\u001b[0;31m             \u001b[0mr\u001b[0m\u001b[0;34m.\u001b[0m\u001b[0mraise_for_status\u001b[0m\u001b[0;34m(\u001b[0m\u001b[0;34m)\u001b[0m\u001b[0;34m\u001b[0m\u001b[0;34m\u001b[0m\u001b[0m\n\u001b[0m\u001b[1;32m   1338\u001b[0m         \u001b[0;32mexcept\u001b[0m \u001b[0mHTTPError\u001b[0m \u001b[0;32mas\u001b[0m \u001b[0merr\u001b[0m\u001b[0;34m:\u001b[0m\u001b[0;34m\u001b[0m\u001b[0;34m\u001b[0m\u001b[0m\n\u001b[1;32m   1339\u001b[0m             \u001b[0;32mif\u001b[0m \u001b[0midentical_ok\u001b[0m \u001b[0;32mand\u001b[0m \u001b[0merr\u001b[0m\u001b[0;34m.\u001b[0m\u001b[0mresponse\u001b[0m\u001b[0;34m.\u001b[0m\u001b[0mstatus_code\u001b[0m \u001b[0;34m==\u001b[0m \u001b[0;36m409\u001b[0m\u001b[0;34m:\u001b[0m\u001b[0;34m\u001b[0m\u001b[0;34m\u001b[0m\u001b[0m\n",
            "\u001b[0;32m/usr/local/lib/python3.7/dist-packages/requests/models.py\u001b[0m in \u001b[0;36mraise_for_status\u001b[0;34m(self)\u001b[0m\n\u001b[1;32m    939\u001b[0m \u001b[0;34m\u001b[0m\u001b[0m\n\u001b[1;32m    940\u001b[0m         \u001b[0;32mif\u001b[0m \u001b[0mhttp_error_msg\u001b[0m\u001b[0;34m:\u001b[0m\u001b[0;34m\u001b[0m\u001b[0;34m\u001b[0m\u001b[0m\n\u001b[0;32m--> 941\u001b[0;31m             \u001b[0;32mraise\u001b[0m \u001b[0mHTTPError\u001b[0m\u001b[0;34m(\u001b[0m\u001b[0mhttp_error_msg\u001b[0m\u001b[0;34m,\u001b[0m \u001b[0mresponse\u001b[0m\u001b[0;34m=\u001b[0m\u001b[0mself\u001b[0m\u001b[0;34m)\u001b[0m\u001b[0;34m\u001b[0m\u001b[0;34m\u001b[0m\u001b[0m\n\u001b[0m\u001b[1;32m    942\u001b[0m \u001b[0;34m\u001b[0m\u001b[0m\n\u001b[1;32m    943\u001b[0m     \u001b[0;32mdef\u001b[0m \u001b[0mclose\u001b[0m\u001b[0;34m(\u001b[0m\u001b[0mself\u001b[0m\u001b[0;34m)\u001b[0m\u001b[0;34m:\u001b[0m\u001b[0;34m\u001b[0m\u001b[0;34m\u001b[0m\u001b[0m\n",
            "\u001b[0;31mHTTPError\u001b[0m: 404 Client Error: Not Found for url: https://huggingface.co/api/tdubon/Classification_TF_Forest/upload/main/README.md"
          ]
        }
      ]
    },
    {
      "cell_type": "markdown",
      "source": [
        "## Decision Forests for Target Encoding\n",
        " \n",
        "\n",
        "*   Convert categorical features using numerical encoding\n",
        "*   Extract positive_frequency, negative_frequency, positive_probability\n",
        "\n",
        "\n"
      ],
      "metadata": {
        "id": "1IaVLtS1wJWX"
      }
    },
    {
      "cell_type": "code",
      "source": [
        "#Implement Binary Target Encoder\n",
        "class BinaryTargetEncoding(layers.Layer):\n",
        "    def __init__(self, **kwargs):\n",
        "        super().__init__(**kwargs)\n",
        "\n",
        "    def adapt(self, data):\n",
        "        # data is expected to be an integer numpy array to a Tensor shape [num_exmples, 2].\n",
        "        # This contains feature values for a given feature in the dataset, and target values.\n",
        "\n",
        "        # Convert the data to a tensor.\n",
        "        data = tf.convert_to_tensor(data)\n",
        "        # Separate the feature values and target values\n",
        "        feature_values = tf.cast(data[:, 0], tf.dtypes.int64)\n",
        "        target_values = tf.cast(data[:, 1], tf.dtypes.bool)\n",
        "\n",
        "        print(\"Target encoding: Computing unique feature values...\")\n",
        "        # Get feature vocabulary.\n",
        "        unique_feature_values = tf.sort(tf.unique(feature_values).y)\n",
        "\n",
        "        print(\n",
        "            \"Target encoding: Computing frequencies for feature values with positive targets...\"\n",
        "        )\n",
        "        # Filter the data where the target label is positive.\n",
        "        positive_indices = tf.where(condition=target_values)\n",
        "        postive_feature_values = tf.gather_nd(\n",
        "            params=feature_values, indices=positive_indices\n",
        "        )\n",
        "        # Compute how many times each feature value occurred with a positive target label.\n",
        "        positive_frequency = tf.math.unsorted_segment_sum(\n",
        "            data=tf.ones(\n",
        "                shape=(postive_feature_values.shape[0], 1), dtype=tf.dtypes.int32\n",
        "            ),\n",
        "            segment_ids=postive_feature_values,\n",
        "            num_segments=unique_feature_values.shape[0],\n",
        "        )\n",
        "\n",
        "        print(\n",
        "            \"Target encoding: Computing frequencies for feature values with negative targets...\"\n",
        "        )\n",
        "        # Filter the data where the target label is negative.\n",
        "        negative_indices = tf.where(condition=tf.math.logical_not(target_values))\n",
        "        negative_feature_values = tf.gather_nd(\n",
        "            params=feature_values, indices=negative_indices\n",
        "        )\n",
        "        # Compute how many times each feature value occurred with a negative target label.\n",
        "        negative_frequency = tf.math.unsorted_segment_sum(\n",
        "            data=tf.ones(\n",
        "                shape=(negative_feature_values.shape[0], 1), dtype=tf.dtypes.int32\n",
        "            ),\n",
        "            segment_ids=negative_feature_values,\n",
        "            num_segments=unique_feature_values.shape[0],\n",
        "        )\n",
        "\n",
        "        print(\"Target encoding: Storing target encoding statistics...\")\n",
        "        self.positive_frequency_lookup = tf.constant(positive_frequency)\n",
        "        self.negative_frequency_lookup = tf.constant(negative_frequency)\n",
        "\n",
        "    def reset_state(self):\n",
        "        self.positive_frequency_lookup = None\n",
        "        self.negative_frequency_lookup = None\n",
        "\n",
        "    def call(self, inputs):\n",
        "        # inputs is expected to be an integer numpy array to a Tensor shape [num_exmples, 1].\n",
        "        # This includes the feature values for a given feature in the dataset.\n",
        "\n",
        "        # Raise an error if the target encoding statistics are not computed.\n",
        "        if (\n",
        "            self.positive_frequency_lookup == None\n",
        "            or self.negative_frequency_lookup == None\n",
        "        ):\n",
        "            raise ValueError(\n",
        "                f\"You need to call the adapt method to compute target encoding statistics.\"\n",
        "            )\n",
        "\n",
        "        # Convert the inputs to a tensor.\n",
        "        inputs = tf.convert_to_tensor(inputs)\n",
        "        # Cast the inputs int64 a tensor.\n",
        "        inputs = tf.cast(inputs, tf.dtypes.int64)\n",
        "        # Lookup positive frequencies for the input feature values.\n",
        "        positive_fequency = tf.cast(\n",
        "            tf.gather_nd(self.positive_frequency_lookup, inputs),\n",
        "            dtype=tf.dtypes.float32,\n",
        "        )\n",
        "        # Lookup negative frequencies for the input feature values.\n",
        "        negative_fequency = tf.cast(\n",
        "            tf.gather_nd(self.negative_frequency_lookup, inputs),\n",
        "            dtype=tf.dtypes.float32,\n",
        "        )\n",
        "        # Compute positive probability for the input feature values.\n",
        "        positive_probability = positive_fequency / (\n",
        "            positive_fequency + negative_fequency\n",
        "        )\n",
        "        # Concatenate and return the looked-up statistics.\n",
        "        return tf.concat(\n",
        "            [positive_fequency, negative_fequency, positive_probability], axis=1\n",
        "        )"
      ],
      "metadata": {
        "id": "Bm_hPVhMv4X9"
      },
      "execution_count": 54,
      "outputs": []
    },
    {
      "cell_type": "code",
      "source": [
        "#Test binary target encoder\n",
        "data = tf.constant(\n",
        "    [\n",
        "        [0, 1],\n",
        "        [2, 0],\n",
        "        [0, 1],\n",
        "        [1, 1],\n",
        "        [1, 1],\n",
        "        [2, 0],\n",
        "        [1, 0],\n",
        "        [0, 1],\n",
        "        [2, 1],\n",
        "        [1, 0],\n",
        "        [0, 1],\n",
        "        [2, 0],\n",
        "        [0, 1],\n",
        "        [1, 1],\n",
        "        [1, 1],\n",
        "        [2, 0],\n",
        "        [1, 0],\n",
        "        [0, 1],\n",
        "        [2, 0],\n",
        "    ]\n",
        ")\n",
        "\n",
        "binary_target_encoder = BinaryTargetEncoding()\n",
        "binary_target_encoder.adapt(data)\n",
        "print(binary_target_encoder([[0], [1], [2]]))"
      ],
      "metadata": {
        "colab": {
          "base_uri": "https://localhost:8080/"
        },
        "id": "uiFCFsEMy7QF",
        "outputId": "1d8f7ac9-8ae4-466d-9b4d-ca3a07209b1a"
      },
      "execution_count": 55,
      "outputs": [
        {
          "output_type": "stream",
          "name": "stdout",
          "text": [
            "Target encoding: Computing unique feature values...\n",
            "Target encoding: Computing frequencies for feature values with positive targets...\n",
            "Target encoding: Computing frequencies for feature values with negative targets...\n",
            "Target encoding: Storing target encoding statistics...\n",
            "tf.Tensor(\n",
            "[[6.         0.         1.        ]\n",
            " [4.         3.         0.5714286 ]\n",
            " [1.         5.         0.16666667]], shape=(3, 3), dtype=float32)\n"
          ]
        }
      ]
    },
    {
      "cell_type": "code",
      "source": [
        "#Implement a feature encoding with target encoding\n",
        "\n",
        "def create_target_encoder():\n",
        "    inputs = create_model_inputs()\n",
        "    target_values = train_data[[TARGET_COLUMN_NAME]].to_numpy()\n",
        "    encoded_features = []\n",
        "    for feature_name in inputs:\n",
        "        if feature_name in CATEGORICAL_FEATURES_WITH_VOCABULARY:\n",
        "            vocabulary = CATEGORICAL_FEATURES_WITH_VOCABULARY[feature_name]\n",
        "            # Create a lookup to convert string values to an integer indices.\n",
        "            # Since we are not using a mask token nor expecting any out of vocabulary\n",
        "            # (oov) token, we set mask_token to None and  num_oov_indices to 0.\n",
        "            lookup = layers.StringLookup(\n",
        "                vocabulary=vocabulary, mask_token=None, num_oov_indices=0\n",
        "            )\n",
        "            # Convert the string input values into integer indices.\n",
        "            value_indices = lookup(inputs[feature_name])\n",
        "            # Prepare the data to adapt the target encoding.\n",
        "            print(\"### Adapting target encoding for:\", feature_name)\n",
        "            feature_values = train_data[[feature_name]].to_numpy().astype(str)\n",
        "            feature_value_indices = lookup(feature_values)\n",
        "            data = tf.concat([feature_value_indices, target_values], axis=1)\n",
        "            feature_encoder = BinaryTargetEncoding()\n",
        "            feature_encoder.adapt(data)\n",
        "            # Convert the feature value indices to target encoding representations.\n",
        "            encoded_feature = feature_encoder(tf.expand_dims(value_indices, -1))\n",
        "        else:\n",
        "            # Expand the dimensions of the numerical input feature and use it as-is.\n",
        "            encoded_feature = tf.expand_dims(inputs[feature_name], -1)\n",
        "        # Add the encoded feature to the list.\n",
        "        encoded_features.append(encoded_feature)\n",
        "    # Concatenate all the encoded features.\n",
        "    encoded_features = tf.concat(encoded_features, axis=1)\n",
        "    # Create and return a Keras model with encoded features as outputs.\n",
        "    return keras.Model(inputs=inputs, outputs=encoded_features)"
      ],
      "metadata": {
        "id": "ECHne8obzpDt"
      },
      "execution_count": 56,
      "outputs": []
    },
    {
      "cell_type": "code",
      "source": [
        "#Gradient Boosted Tree Model with preprocessor\n",
        "\n",
        "def create_gbt_with_preprocessor(preprocessor):\n",
        "\n",
        "    gbt_model = tfdf.keras.GradientBoostedTreesModel(\n",
        "        preprocessing=preprocessor,\n",
        "        growing_strategy=GROWING_STRATEGY,\n",
        "        num_trees=NUM_TREES,\n",
        "        max_depth=MAX_DEPTH,\n",
        "        min_examples=MIN_EXAMPLES,\n",
        "        subsample=SUBSAMPLE,\n",
        "        validation_ratio=VALIDATION_RATIO,\n",
        "        task=tfdf.keras.Task.CLASSIFICATION,\n",
        "    )\n",
        "\n",
        "    gbt_model.compile(metrics=[keras.metrics.BinaryAccuracy(name=\"accuracy\")])\n",
        "\n",
        "    return gbt_model"
      ],
      "metadata": {
        "id": "NUH27drXzzw1"
      },
      "execution_count": 57,
      "outputs": []
    },
    {
      "cell_type": "code",
      "source": [
        "#Train and evaluate the model\n",
        "\n",
        "gbt_model = create_gbt_with_preprocessor(create_target_encoder())\n",
        "run_experiment(gbt_model, train_data, test_data)"
      ],
      "metadata": {
        "id": "OUkPb8y50AKa"
      },
      "execution_count": null,
      "outputs": []
    },
    {
      "cell_type": "markdown",
      "source": [
        "# Decision Forests with trained embeddings\n",
        "\n",
        "1.   Train the embedding encoder with linear model with backprop\n",
        "2.   Use encoder to preprocess input features of GB Tree\n"
      ],
      "metadata": {
        "id": "Kxls-pzq0T0i"
      }
    },
    {
      "cell_type": "code",
      "source": [
        "#Implement feature encoding with embeddings\n",
        "def create_embedding_encoder():\n",
        "    inputs = create_model_inputs()\n",
        "    encoded_features = []\n",
        "    for feature_name in inputs:\n",
        "        if feature_name in CATEGORICAL_FEATURES_WITH_VOCABULARY:\n",
        "            vocabulary = CATEGORICAL_FEATURES_WITH_VOCABULARY[feature_name]\n",
        "            # Create a lookup to convert string values to an integer indices.\n",
        "            # Since we are not using a mask token nor expecting any out of vocabulary\n",
        "            # (oov) token, we set mask_token to None and  num_oov_indices to 0.\n",
        "            lookup = layers.StringLookup(\n",
        "                vocabulary=vocabulary, mask_token=None, num_oov_indices=0\n",
        "            )\n",
        "            # Convert the string input values into integer indices.\n",
        "            value_index = lookup(inputs[feature_name])\n",
        "            # Create an embedding layer with the specified dimensions\n",
        "            vocabulary_size = len(vocabulary)\n",
        "            embedding_size = int(math.sqrt(vocabulary_size))\n",
        "            feature_encoder = layers.Embedding(\n",
        "                input_dim=len(vocabulary), output_dim=embedding_size\n",
        "            )\n",
        "            # Convert the index values to embedding representations.\n",
        "            encoded_feature = feature_encoder(value_index)\n",
        "        else:\n",
        "            # Expand the dimensions of the numerical input feature and use it as-is.\n",
        "            encoded_feature = tf.expand_dims(inputs[feature_name], -1)\n",
        "        # Add the encoded feature to the list.\n",
        "        encoded_features.append(encoded_feature)\n",
        "    # Concatenate all the encoded features.\n",
        "    encoded_features = layers.concatenate(encoded_features, axis=1)\n",
        "    # Create and return a Keras model with encoded features as outputs.\n",
        "    return keras.Model(inputs=inputs, outputs=encoded_features)"
      ],
      "metadata": {
        "id": "6o1TZvoK0UPT"
      },
      "execution_count": 59,
      "outputs": []
    },
    {
      "cell_type": "code",
      "source": [
        "#Build linear model to train embeddings\n",
        "def create_linear_model(encoder):\n",
        "    inputs = create_model_inputs()\n",
        "    embeddings = encoder(inputs)\n",
        "    linear_output = layers.Dense(units=1, activation=\"sigmoid\")(embeddings)\n",
        "\n",
        "    linear_model = keras.Model(inputs=inputs, outputs=linear_output)\n",
        "    linear_model.compile(\n",
        "        optimizer=keras.optimizers.Adam(),\n",
        "        loss=keras.losses.BinaryCrossentropy(),\n",
        "        metrics=[keras.metrics.BinaryAccuracy(\"accuracy\")],\n",
        "    )\n",
        "    return linear_model\n",
        "\n",
        "\n",
        "embedding_encoder = create_embedding_encoder()\n",
        "run_experiment(\n",
        "    create_linear_model(embedding_encoder),\n",
        "    train_data,\n",
        "    test_data,\n",
        "    num_epochs=3,\n",
        "    batch_size=256,\n",
        ")"
      ],
      "metadata": {
        "id": "7S3C_B3z3TYk"
      },
      "execution_count": null,
      "outputs": []
    },
    {
      "cell_type": "markdown",
      "source": [
        "# Train and evaluate GB Tree model with embeddings"
      ],
      "metadata": {
        "id": "v4x6p-_r3bpm"
      }
    },
    {
      "cell_type": "code",
      "source": [
        "gbt_model = create_gbt_with_preprocessor(embedding_encoder)\n",
        "run_experiment(gbt_model, train_data, test_data)"
      ],
      "metadata": {
        "id": "0b9vECd03i4W"
      },
      "execution_count": null,
      "outputs": []
    },
    {
      "cell_type": "code",
      "source": [
        "gbt_model.get_weights()"
      ],
      "metadata": {
        "id": "KMnpKhWA4XJH"
      },
      "execution_count": null,
      "outputs": []
    }
  ]
}