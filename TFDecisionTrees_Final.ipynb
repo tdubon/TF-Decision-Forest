{
  "nbformat": 4,
  "nbformat_minor": 0,
  "metadata": {
    "colab": {
      "name": "TFDecisionTrees_Final.ipynb",
      "provenance": [],
      "collapsed_sections": []
    },
    "kernelspec": {
      "name": "python3",
      "display_name": "Python 3"
    },
    "language_info": {
      "name": "python"
    }
  },
  "cells": [
    {
      "cell_type": "markdown",
      "source": [
        "# Classification with TF Decision Trees\n",
        "Source code from https://keras.io/examples/structured_data/classification_with_tfdf/"
      ],
      "metadata": {
        "id": "yF3bjhkdylqP"
      }
    },
    {
      "cell_type": "code",
      "source": [
        "!pip install huggingface_hub"
      ],
      "metadata": {
        "id": "va3EN2aRGAj0"
      },
      "execution_count": null,
      "outputs": []
    },
    {
      "cell_type": "code",
      "source": [
        "!pip install -U tensorflow_decision_forests"
      ],
      "metadata": {
        "id": "ZWA4QL6uy0r4"
      },
      "execution_count": null,
      "outputs": []
    },
    {
      "cell_type": "code",
      "source": [
        "!pip install tensorflow==2.7.0"
      ],
      "metadata": {
        "id": "4bKMv9ftXH43"
      },
      "execution_count": null,
      "outputs": []
    },
    {
      "cell_type": "code",
      "source": [
        "!pip install ipykernel==4.10"
      ],
      "metadata": {
        "id": "STU_6dlAX4v7"
      },
      "execution_count": null,
      "outputs": []
    },
    {
      "cell_type": "code",
      "source": [
        "!apt-get install -y git-lfs"
      ],
      "metadata": {
        "id": "j1T0CXtN6aZe"
      },
      "execution_count": null,
      "outputs": []
    },
    {
      "cell_type": "code",
      "source": [
        "from huggingface_hub import notebook_login\n",
        "from huggingface_hub import push_to_hub_keras\n",
        "\n",
        "notebook_login()"
      ],
      "metadata": {
        "id": "aUbSq698F6nB"
      },
      "execution_count": null,
      "outputs": []
    },
    {
      "cell_type": "code",
      "source": [
        "import math\n",
        "import urllib\n",
        "import numpy as np\n",
        "import pandas as pd\n",
        "import tensorflow as tf\n",
        "from tensorflow import keras\n",
        "from tensorflow.keras import layers\n",
        "import tensorflow_decision_forests as tfdf\n"
      ],
      "metadata": {
        "id": "l2rrOS095XCq"
      },
      "execution_count": 79,
      "outputs": []
    },
    {
      "cell_type": "code",
      "source": [
        "input_path = \"https://archive.ics.uci.edu/ml/machine-learning-databases/census-income-mld/census-income\"\n",
        "input_column_header = \"income_level\"\n"
      ],
      "metadata": {
        "id": "l8mDDcjSiRXz"
      },
      "execution_count": 80,
      "outputs": []
    },
    {
      "cell_type": "code",
      "source": [
        "#Load data\n",
        "\n",
        "BASE_PATH = input_path\n",
        "CSV_HEADER = [ l.decode(\"utf-8\").split(\":\")[0].replace(\" \", \"_\")\n",
        "  for l in urllib.request.urlopen(f\"{BASE_PATH}.names\")\n",
        "  if not l.startswith(b\"|\")][2:]\n",
        "\n",
        "CSV_HEADER.append(input_column_header)\n",
        "\n",
        "train_data = pd.read_csv(f\"{BASE_PATH}.data.gz\", header=None, names=CSV_HEADER)\n",
        "test_data = pd.read_csv(f\"{BASE_PATH}.test.gz\", header=None, names=CSV_HEADER)"
      ],
      "metadata": {
        "id": "dERuHCWf5XR5"
      },
      "execution_count": 81,
      "outputs": []
    },
    {
      "cell_type": "code",
      "source": [
        "print(train_data.head)"
      ],
      "metadata": {
        "id": "3C7PqSjpi_rh"
      },
      "execution_count": null,
      "outputs": []
    },
    {
      "cell_type": "code",
      "source": [
        "#convert from string to integers\n",
        "target_labels = [\" - 50000.\", \" 50000+.\"]\n",
        "train_data[input_column_header] = train_data[input_column_header].map(target_labels.index)\n",
        "test_data[input_column_header] = test_data[input_column_header].map(target_labels.index)"
      ],
      "metadata": {
        "id": "-s7hgWhv5Xi_"
      },
      "execution_count": null,
      "outputs": []
    },
    {
      "cell_type": "code",
      "source": [
        "#Observe shape of training and test data\n",
        "print(f\"Train data shape: {train_data.shape}\")\n",
        "print(f\"Test data shape: {test_data.shape}\")\n",
        "print(train_data.head().T)"
      ],
      "metadata": {
        "id": "wlxsGTnVVIEi"
      },
      "execution_count": null,
      "outputs": []
    },
    {
      "cell_type": "code",
      "source": [
        "#define metadata\n",
        "\n",
        "# Target column name.\n",
        "TARGET_COLUMN_NAME = \"income_level\"\n",
        "# Weight column name.\n",
        "WEIGHT_COLUMN_NAME = \"instance_weight\"\n",
        "# Numeric feature names.\n",
        "NUMERIC_FEATURE_NAMES = [\n",
        "    \"age\",\n",
        "    \"wage_per_hour\",\n",
        "    \"capital_gains\",\n",
        "    \"capital_losses\",\n",
        "    \"dividends_from_stocks\",\n",
        "    \"num_persons_worked_for_employer\",\n",
        "    \"weeks_worked_in_year\",\n",
        "]\n",
        "\n",
        "# Categorical features and their vocabulary lists.\n",
        "CATEGORICAL_FEATURES_WITH_VOCABULARY = {\n",
        "    feature_name: sorted(\n",
        "        [str(value) for value in list(train_data[feature_name].unique())]\n",
        "    )\n",
        "    for feature_name in CSV_HEADER\n",
        "    if feature_name\n",
        "    not in list(NUMERIC_FEATURE_NAMES + [WEIGHT_COLUMN_NAME, TARGET_COLUMN_NAME])\n",
        "}\n",
        "# All features names.\n",
        "FEATURE_NAMES = NUMERIC_FEATURE_NAMES + list(\n",
        "    CATEGORICAL_FEATURES_WITH_VOCABULARY.keys()\n",
        ")"
      ],
      "metadata": {
        "id": "y0aYaRRjVIQN"
      },
      "execution_count": 12,
      "outputs": []
    },
    {
      "cell_type": "markdown",
      "source": [
        "Configure hyperparameters for the tree model."
      ],
      "metadata": {
        "id": "InpzY04D1CZ-"
      }
    },
    {
      "cell_type": "code",
      "source": [
        "GROWING_STRATEGY = \"BEST_FIRST_GLOBAL\"\n",
        "NUM_TREES = 250\n",
        "MIN_EXAMPLES = 6\n",
        "MAX_DEPTH = 5\n",
        "SUBSAMPLE = 0.65\n",
        "SAMPLING_METHOD = \"RANDOM\"\n",
        "VALIDATION_RATIO = 0.1"
      ],
      "metadata": {
        "id": "kz0XxQed1dW8"
      },
      "execution_count": 13,
      "outputs": []
    },
    {
      "cell_type": "code",
      "source": [
        "#Implement training & evaluation procedure\n",
        "def prepare_sample(features, target, weight):\n",
        "    for feature_name in features:\n",
        "        if feature_name in CATEGORICAL_FEATURES_WITH_VOCABULARY:\n",
        "            if features[feature_name].dtype != tf.dtypes.string:\n",
        "                # Convert categorical feature values to string.\n",
        "                features[feature_name] = tf.strings.as_string(features[feature_name])\n",
        "    return features, target, weight\n",
        "\n",
        "\n",
        "def run_experiment(model, train_data, test_data, num_epochs=1, batch_size=None):\n",
        "\n",
        "    train_dataset = tfdf.keras.pd_dataframe_to_tf_dataset(\n",
        "        train_data, label=TARGET_COLUMN_NAME, weight=WEIGHT_COLUMN_NAME\n",
        "    ).map(prepare_sample, num_parallel_calls=tf.data.AUTOTUNE)\n",
        "    test_dataset = tfdf.keras.pd_dataframe_to_tf_dataset(\n",
        "        test_data, label=TARGET_COLUMN_NAME, weight=WEIGHT_COLUMN_NAME\n",
        "    ).map(prepare_sample, num_parallel_calls=tf.data.AUTOTUNE)\n",
        "\n",
        "    model.fit(train_dataset, epochs=num_epochs, batch_size=batch_size)\n",
        "    _, accuracy = model.evaluate(test_dataset, verbose=0)\n",
        "    push_to_hub = True\n",
        "    print(f\"Test accuracy: {round(accuracy * 100, 2)}%\")\n",
        "    "
      ],
      "metadata": {
        "id": "c4VhjQKBWmW2"
      },
      "execution_count": 55,
      "outputs": []
    },
    {
      "cell_type": "code",
      "source": [
        "#Create model inputs\n",
        "\n",
        "def create_model_inputs():\n",
        "    inputs = {}\n",
        "    for feature_name in FEATURE_NAMES:\n",
        "        if feature_name in NUMERIC_FEATURE_NAMES:\n",
        "            inputs[feature_name] = layers.Input(\n",
        "                name=feature_name, shape=(), dtype=tf.float32\n",
        "            )\n",
        "        else:\n",
        "            inputs[feature_name] = layers.Input(\n",
        "                name=feature_name, shape=(), dtype=tf.string\n",
        "            )\n",
        "    return inputs"
      ],
      "metadata": {
        "id": "yIJ7qRNuXhIO"
      },
      "execution_count": 56,
      "outputs": []
    },
    {
      "cell_type": "markdown",
      "source": [
        "# Experiment 1: Decision Forests with raw features"
      ],
      "metadata": {
        "id": "INT9MsPYmjjj"
      }
    },
    {
      "cell_type": "code",
      "source": [
        "#Decision Forest with raw features\n",
        "def specify_feature_usages(inputs):\n",
        "    feature_usages = []\n",
        "\n",
        "    for feature_name in inputs:\n",
        "        if inputs[feature_name].dtype == tf.dtypes.float32:\n",
        "            feature_usage = tfdf.keras.FeatureUsage(\n",
        "                name=feature_name, semantic=tfdf.keras.FeatureSemantic.NUMERICAL\n",
        "            )\n",
        "        else:\n",
        "            feature_usage = tfdf.keras.FeatureUsage(\n",
        "                name=feature_name, semantic=tfdf.keras.FeatureSemantic.CATEGORICAL\n",
        "            )\n",
        "\n",
        "        feature_usages.append(feature_usage)\n",
        "    return feature_usages\n",
        "  "
      ],
      "metadata": {
        "id": "ItzQUlwKXtWI"
      },
      "execution_count": 57,
      "outputs": []
    },
    {
      "cell_type": "code",
      "source": [
        "#Create GB trees model\n",
        "def create_gbt_model():\n",
        "    gbt_model = tfdf.keras.GradientBoostedTreesModel(\n",
        "        features = specify_feature_usages(create_model_inputs()),\n",
        "        exclude_non_specified_features = True,\n",
        "        growing_strategy = GROWING_STRATEGY,\n",
        "        num_trees = NUM_TREES,\n",
        "        max_depth = MAX_DEPTH,\n",
        "        min_examples = MIN_EXAMPLES,\n",
        "        subsample = SUBSAMPLE,\n",
        "        validation_ratio = VALIDATION_RATIO,\n",
        "        task = tfdf.keras.Task.CLASSIFICATION,\n",
        "        loss = \"DEFAULT\",\n",
        "    )\n",
        "\n",
        "    gbt_model.compile(metrics=[keras.metrics.BinaryAccuracy(name=\"accuracy\")])\n",
        "    return gbt_model\n",
        "    push_to_hub_keras(gbt_model, organization=\"keras-io\", repo_url=\"tdubon/Classification_TF_Forest\") "
      ],
      "metadata": {
        "id": "MpgXSFIbX7N2"
      },
      "execution_count": 82,
      "outputs": []
    },
    {
      "cell_type": "code",
      "source": [
        "#Train and evaluate model\n",
        "gbt_model = create_gbt_model()\n",
        "run_experiment(gbt_model, train_data, test_data)"
      ],
      "metadata": {
        "id": "HNFoDVNIYBO7",
        "colab": {
          "base_uri": "https://localhost:8080/"
        },
        "outputId": "b96c4db4-15e7-49fb-ba7b-858746d3c5b5"
      },
      "execution_count": 94,
      "outputs": [
        {
          "output_type": "stream",
          "name": "stdout",
          "text": [
            "Use /tmp/tmpnkjxn57q as temporary training directory\n"
          ]
        },
        {
          "output_type": "stream",
          "name": "stderr",
          "text": [
            "/usr/local/lib/python3.7/dist-packages/tensorflow_decision_forests/keras/core.py:2036: FutureWarning: In a future version of pandas all arguments of DataFrame.drop except for the argument 'labels' will be keyword-only\n",
            "  features_dataframe = dataframe.drop(label, 1)\n",
            "/usr/local/lib/python3.7/dist-packages/tensorflow_decision_forests/keras/core.py:2039: FutureWarning: In a future version of pandas all arguments of DataFrame.drop except for the argument 'labels' will be keyword-only\n",
            "  features_dataframe = features_dataframe.drop(weight, 1)\n"
          ]
        },
        {
          "output_type": "stream",
          "name": "stdout",
          "text": [
            "Starting reading the dataset\n",
            "199/200 [============================>.] - ETA: 0s\n",
            "Dataset read in 0:00:07.569854\n",
            "Training model\n",
            "Model trained in 0:01:40.791314\n",
            "Compiling model\n",
            "200/200 [==============================] - 108s 542ms/step\n",
            "Test accuracy: 95.79%\n"
          ]
        }
      ]
    },
    {
      "cell_type": "code",
      "source": [
        "#Inspect the model: Model type, mask, input features, feature importance\n",
        "print(gbt_model.summary())"
      ],
      "metadata": {
        "id": "d6z83VHwYGD3"
      },
      "execution_count": null,
      "outputs": []
    },
    {
      "cell_type": "code",
      "source": [
        "#plot the model\n",
        "tfdf.model_plotter.plot_model_in_colab(gbt_model, tree_idx=0, max_depth=3)"
      ],
      "metadata": {
        "colab": {
          "base_uri": "https://localhost:8080/",
          "height": 404
        },
        "id": "nRLSYE4G_Ios",
        "outputId": "873fd2ed-c7cd-45eb-8e54-9b48e1d5527b"
      },
      "execution_count": 85,
      "outputs": [
        {
          "output_type": "execute_result",
          "data": {
            "text/html": [
              "\n",
              "<script src=\"https://d3js.org/d3.v6.min.js\"></script>\n",
              "<div id=\"tree_plot_0d0b0561c18f4f8ca0e7b7cc903b0a25\"></div>\n",
              "<script>\n",
              "/*\n",
              " * Copyright 2021 Google LLC.\n",
              " * Licensed under the Apache License, Version 2.0 (the \"License\");\n",
              " * you may not use this file except in compliance with the License.\n",
              " * You may obtain a copy of the License at\n",
              " *\n",
              " *     https://www.apache.org/licenses/LICENSE-2.0\n",
              " *\n",
              " * Unless required by applicable law or agreed to in writing, software\n",
              " * distributed under the License is distributed on an \"AS IS\" BASIS,\n",
              " * WITHOUT WARRANTIES OR CONDITIONS OF ANY KIND, either express or implied.\n",
              " * See the License for the specific language governing permissions and\n",
              " * limitations under the License.\n",
              " */\n",
              "\n",
              "/**\n",
              " *  Plotting of decision trees generated by TF-DF.\n",
              " *\n",
              " *  A tree is a recursive structure of node objects.\n",
              " *  A node contains one or more of the following components:\n",
              " *\n",
              " *    - A value: Representing the output of the node. If the node is not a leaf,\n",
              " *      the value is only present for analysis i.e. it is not used for\n",
              " *      predictions.\n",
              " *\n",
              " *    - A condition : For non-leaf nodes, the condition (also known as split)\n",
              " *      defines a binary test to branch to the positive or negative child.\n",
              " *\n",
              " *    - An explanation: Generally a plot showing the relation between the label\n",
              " *      and the condition to give insights about the effect of the condition.\n",
              " *\n",
              " *    - Two children : For non-leaf nodes, the children nodes. The first\n",
              " *      children (i.e. \"node.children[0]\") is the negative children (drawn in\n",
              " *      red). The second children is the positive one (drawn in green).\n",
              " *\n",
              " */\n",
              "\n",
              "/**\n",
              " * Plots a single decision tree into a DOM element.\n",
              " * @param {!options} options Dictionary of configurations.\n",
              " * @param {!tree} raw_tree Recursive tree structure.\n",
              " * @param {string} canvas_id Id of the output dom element.\n",
              " */\n",
              "function display_tree(options, raw_tree, canvas_id) {\n",
              "  console.log(options);\n",
              "\n",
              "  // Determine the node placement.\n",
              "  const tree_struct = d3.tree().nodeSize(\n",
              "      [options.node_y_offset, options.node_x_offset])(d3.hierarchy(raw_tree));\n",
              "\n",
              "  // Boundaries of the node placement.\n",
              "  let x_min = Infinity;\n",
              "  let x_max = -x_min;\n",
              "  let y_min = Infinity;\n",
              "  let y_max = -x_min;\n",
              "\n",
              "  tree_struct.each(d => {\n",
              "    if (d.x > x_max) x_max = d.x;\n",
              "    if (d.x < x_min) x_min = d.x;\n",
              "    if (d.y > y_max) y_max = d.y;\n",
              "    if (d.y < y_min) y_min = d.y;\n",
              "  });\n",
              "\n",
              "  // Size of the plot.\n",
              "  const width = y_max - y_min + options.node_x_size + options.margin * 2;\n",
              "  const height = x_max - x_min + options.node_y_size + options.margin * 2 +\n",
              "      options.node_y_offset - options.node_y_size;\n",
              "\n",
              "  const plot = d3.select(canvas_id);\n",
              "\n",
              "  // Tool tip\n",
              "  options.tooltip = plot.append('div')\n",
              "                        .attr('width', 100)\n",
              "                        .attr('height', 100)\n",
              "                        .style('padding', '4px')\n",
              "                        .style('background', '#fff')\n",
              "                        .style('box-shadow', '4px 4px 0px rgba(0,0,0,0.1)')\n",
              "                        .style('border', '1px solid black')\n",
              "                        .style('font-family', 'sans-serif')\n",
              "                        .style('font-size', options.font_size)\n",
              "                        .style('position', 'absolute')\n",
              "                        .style('z-index', '10')\n",
              "                        .attr('pointer-events', 'none')\n",
              "                        .style('display', 'none');\n",
              "\n",
              "  // Create canvas\n",
              "  const svg = plot.append('svg').attr('width', width).attr('height', height);\n",
              "  const graph =\n",
              "      svg.style('overflow', 'visible')\n",
              "          .append('g')\n",
              "          .attr('font-family', 'sans-serif')\n",
              "          .attr('font-size', options.font_size)\n",
              "          .attr(\n",
              "              'transform',\n",
              "              () => `translate(${options.margin},${\n",
              "                  - x_min + options.node_y_offset / 2 + options.margin})`);\n",
              "\n",
              "  // Plot bounding box.\n",
              "  if (options.show_plot_bounding_box) {\n",
              "    svg.append('rect')\n",
              "        .attr('width', width)\n",
              "        .attr('height', height)\n",
              "        .attr('fill', 'none')\n",
              "        .attr('stroke-width', 1.0)\n",
              "        .attr('stroke', 'black');\n",
              "  }\n",
              "\n",
              "  // Draw the edges.\n",
              "  display_edges(options, graph, tree_struct);\n",
              "\n",
              "  // Draw the nodes.\n",
              "  display_nodes(options, graph, tree_struct);\n",
              "}\n",
              "\n",
              "/**\n",
              " * Draw the nodes of the tree.\n",
              " * @param {!options} options Dictionary of configurations.\n",
              " * @param {!graph} graph D3 search handle containing the graph.\n",
              " * @param {!tree_struct} tree_struct Structure of the tree (node placement,\n",
              " *     data, etc.).\n",
              " */\n",
              "function display_nodes(options, graph, tree_struct) {\n",
              "  const nodes = graph.append('g')\n",
              "                    .selectAll('g')\n",
              "                    .data(tree_struct.descendants())\n",
              "                    .join('g')\n",
              "                    .attr('transform', d => `translate(${d.y},${d.x})`);\n",
              "\n",
              "  nodes.append('rect')\n",
              "      .attr('x', 0.5)\n",
              "      .attr('y', 0.5)\n",
              "      .attr('width', options.node_x_size)\n",
              "      .attr('height', options.node_y_size)\n",
              "      .attr('stroke', 'lightgrey')\n",
              "      .attr('stroke-width', 1)\n",
              "      .attr('fill', 'white')\n",
              "      .attr('y', -options.node_y_size / 2);\n",
              "\n",
              "  // Brackets on the right of condition nodes without children.\n",
              "  non_leaf_node_without_children =\n",
              "      nodes.filter(node => node.data.condition != null && node.children == null)\n",
              "          .append('g')\n",
              "          .attr('transform', `translate(${options.node_x_size},0)`);\n",
              "\n",
              "  non_leaf_node_without_children.append('path')\n",
              "      .attr('d', 'M0,0 C 10,0 0,10 10,10')\n",
              "      .attr('fill', 'none')\n",
              "      .attr('stroke-width', 1.0)\n",
              "      .attr('stroke', '#F00');\n",
              "\n",
              "  non_leaf_node_without_children.append('path')\n",
              "      .attr('d', 'M0,0 C 10,0 0,-10 10,-10')\n",
              "      .attr('fill', 'none')\n",
              "      .attr('stroke-width', 1.0)\n",
              "      .attr('stroke', '#0F0');\n",
              "\n",
              "  const node_content = nodes.append('g').attr(\n",
              "      'transform',\n",
              "      `translate(0,${options.node_padding - options.node_y_size / 2})`);\n",
              "\n",
              "  node_content.append(node => create_node_element(options, node));\n",
              "}\n",
              "\n",
              "/**\n",
              " * Creates the D3 content for a single node.\n",
              " * @param {!options} options Dictionary of configurations.\n",
              " * @param {!node} node Node to draw.\n",
              " * @return {!d3} D3 content.\n",
              " */\n",
              "function create_node_element(options, node) {\n",
              "  // Output accumulator.\n",
              "  let output = {\n",
              "    // Content to draw.\n",
              "    content: d3.create('svg:g'),\n",
              "    // Vertical offset to the next element to draw.\n",
              "    vertical_offset: 0\n",
              "  };\n",
              "\n",
              "  // Conditions.\n",
              "  if (node.data.condition != null) {\n",
              "    display_condition(options, node.data.condition, output);\n",
              "  }\n",
              "\n",
              "  // Values.\n",
              "  if (node.data.value != null) {\n",
              "    display_value(options, node.data.value, output);\n",
              "  }\n",
              "\n",
              "  // Explanations.\n",
              "  if (node.data.explanation != null) {\n",
              "    display_explanation(options, node.data.explanation, output);\n",
              "  }\n",
              "\n",
              "  return output.content.node();\n",
              "}\n",
              "\n",
              "\n",
              "/**\n",
              " * Adds a single line of text inside of a node.\n",
              " * @param {!options} options Dictionary of configurations.\n",
              " * @param {string} text Text to display.\n",
              " * @param {!output} output Output display accumulator.\n",
              " */\n",
              "function display_node_text(options, text, output) {\n",
              "  output.content.append('text')\n",
              "      .attr('x', options.node_padding)\n",
              "      .attr('y', output.vertical_offset)\n",
              "      .attr('alignment-baseline', 'hanging')\n",
              "      .text(text);\n",
              "  output.vertical_offset += 10;\n",
              "}\n",
              "\n",
              "/**\n",
              " * Adds a single line of text inside of a node with a tooltip.\n",
              " * @param {!options} options Dictionary of configurations.\n",
              " * @param {string} text Text to display.\n",
              " * @param {string} tooltip Text in the Tooltip.\n",
              " * @param {!output} output Output display accumulator.\n",
              " */\n",
              "function display_node_text_with_tooltip(options, text, tooltip, output) {\n",
              "  const item = output.content.append('text')\n",
              "                   .attr('x', options.node_padding)\n",
              "                   .attr('alignment-baseline', 'hanging')\n",
              "                   .text(text);\n",
              "\n",
              "  add_tooltip(options, item, () => tooltip);\n",
              "  output.vertical_offset += 10;\n",
              "}\n",
              "\n",
              "/**\n",
              " * Adds a tooltip to a dom element.\n",
              " * @param {!options} options Dictionary of configurations.\n",
              " * @param {!dom} target Dom element to equip with a tooltip.\n",
              " * @param {!func} get_content Generates the html content of the tooltip.\n",
              " */\n",
              "function add_tooltip(options, target, get_content) {\n",
              "  function show(d) {\n",
              "    options.tooltip.style('display', 'block');\n",
              "    options.tooltip.html(get_content());\n",
              "  }\n",
              "\n",
              "  function hide(d) {\n",
              "    options.tooltip.style('display', 'none');\n",
              "  }\n",
              "\n",
              "  function move(d) {\n",
              "    options.tooltip.style('display', 'block');\n",
              "    options.tooltip.style('left', (d.pageX + 5) + 'px');\n",
              "    options.tooltip.style('top', d.pageY + 'px');\n",
              "  }\n",
              "\n",
              "  target.on('mouseover', show);\n",
              "  target.on('mouseout', hide);\n",
              "  target.on('mousemove', move);\n",
              "}\n",
              "\n",
              "/**\n",
              " * Adds a condition inside of a node.\n",
              " * @param {!options} options Dictionary of configurations.\n",
              " * @param {!condition} condition Condition to display.\n",
              " * @param {!output} output Output display accumulator.\n",
              " */\n",
              "function display_condition(options, condition, output) {\n",
              "  threshold_format = d3.format('r');\n",
              "\n",
              "  if (condition.type === 'IS_MISSING') {\n",
              "    display_node_text(options, `${condition.attribute} is missing`, output);\n",
              "    return;\n",
              "  }\n",
              "\n",
              "  if (condition.type === 'IS_TRUE') {\n",
              "    display_node_text(options, `${condition.attribute} is true`, output);\n",
              "    return;\n",
              "  }\n",
              "\n",
              "  if (condition.type === 'NUMERICAL_IS_HIGHER_THAN') {\n",
              "    format = d3.format('r');\n",
              "    display_node_text(\n",
              "        options,\n",
              "        `${condition.attribute} >= ${threshold_format(condition.threshold)}`,\n",
              "        output);\n",
              "    return;\n",
              "  }\n",
              "\n",
              "  if (condition.type === 'CATEGORICAL_IS_IN') {\n",
              "    display_node_text_with_tooltip(\n",
              "        options, `${condition.attribute} in [...]`,\n",
              "        `${condition.attribute} in [${condition.mask}]`, output);\n",
              "    return;\n",
              "  }\n",
              "\n",
              "  if (condition.type === 'CATEGORICAL_SET_CONTAINS') {\n",
              "    display_node_text_with_tooltip(\n",
              "        options, `${condition.attribute} intersect [...]`,\n",
              "        `${condition.attribute} intersect [${condition.mask}]`, output);\n",
              "    return;\n",
              "  }\n",
              "\n",
              "  if (condition.type === 'NUMERICAL_SPARSE_OBLIQUE') {\n",
              "    display_node_text_with_tooltip(\n",
              "        options, `Sparse oblique split...`,\n",
              "        `[${condition.attributes}]*[${condition.weights}]>=${\n",
              "            threshold_format(condition.threshold)}`,\n",
              "        output);\n",
              "    return;\n",
              "  }\n",
              "\n",
              "  display_node_text(\n",
              "      options, `Non supported condition ${condition.type}`, output);\n",
              "}\n",
              "\n",
              "/**\n",
              " * Adds a value inside of a node.\n",
              " * @param {!options} options Dictionary of configurations.\n",
              " * @param {!value} value Value to display.\n",
              " * @param {!output} output Output display accumulator.\n",
              " */\n",
              "function display_value(options, value, output) {\n",
              "  if (value.type === 'PROBABILITY') {\n",
              "    const left_margin = 0;\n",
              "    const right_margin = 50;\n",
              "    const plot_width = options.node_x_size - options.node_padding * 2 -\n",
              "        left_margin - right_margin;\n",
              "\n",
              "    let cusum = Array.from(d3.cumsum(value.distribution));\n",
              "    cusum.unshift(0);\n",
              "    const distribution_plot = output.content.append('g').attr(\n",
              "        'transform', `translate(0,${output.vertical_offset + 0.5})`);\n",
              "\n",
              "    distribution_plot.selectAll('rect')\n",
              "        .data(value.distribution)\n",
              "        .join('rect')\n",
              "        .attr('height', 10)\n",
              "        .attr(\n",
              "            'x',\n",
              "            (d, i) =>\n",
              "                (cusum[i] * plot_width + left_margin + options.node_padding))\n",
              "        .attr('width', (d, i) => d * plot_width)\n",
              "        .style('fill', (d, i) => d3.schemeSet1[i]);\n",
              "\n",
              "    const num_examples =\n",
              "        output.content.append('g')\n",
              "            .attr('transform', `translate(0,${output.vertical_offset})`)\n",
              "            .append('text')\n",
              "            .attr('x', options.node_x_size - options.node_padding)\n",
              "            .attr('alignment-baseline', 'hanging')\n",
              "            .attr('text-anchor', 'end')\n",
              "            .text(`(${value.num_examples})`);\n",
              "\n",
              "    const distribution_details = d3.create('ul');\n",
              "    distribution_details.selectAll('li')\n",
              "        .data(value.distribution)\n",
              "        .join('li')\n",
              "        .append('span')\n",
              "        .text(\n",
              "            (d, i) =>\n",
              "                'class ' + i + ': ' + d3.format('.3%')(value.distribution[i]));\n",
              "\n",
              "    add_tooltip(options, distribution_plot, () => distribution_details.html());\n",
              "    add_tooltip(options, num_examples, () => 'Number of examples');\n",
              "\n",
              "    output.vertical_offset += 10;\n",
              "    return;\n",
              "  }\n",
              "\n",
              "  if (value.type === 'REGRESSION') {\n",
              "    display_node_text(\n",
              "        options,\n",
              "        'value: ' + d3.format('r')(value.value) + ` (` +\n",
              "            d3.format('.6')(value.num_examples) + `)`,\n",
              "        output);\n",
              "    return;\n",
              "  }\n",
              "\n",
              "  display_node_text(options, `Non supported value ${value.type}`, output);\n",
              "}\n",
              "\n",
              "/**\n",
              " * Adds an explanation inside of a node.\n",
              " * @param {!options} options Dictionary of configurations.\n",
              " * @param {!explanation} explanation Explanation to display.\n",
              " * @param {!output} output Output display accumulator.\n",
              " */\n",
              "function display_explanation(options, explanation, output) {\n",
              "  // Margin before the explanation.\n",
              "  output.vertical_offset += 10;\n",
              "\n",
              "  display_node_text(\n",
              "      options, `Non supported explanation ${explanation.type}`, output);\n",
              "}\n",
              "\n",
              "\n",
              "/**\n",
              " * Draw the edges of the tree.\n",
              " * @param {!options} options Dictionary of configurations.\n",
              " * @param {!graph} graph D3 search handle containing the graph.\n",
              " * @param {!tree_struct} tree_struct Structure of the tree (node placement,\n",
              " *     data, etc.).\n",
              " */\n",
              "function display_edges(options, graph, tree_struct) {\n",
              "  // Draw an edge between a parent and a child node with a bezier.\n",
              "  function draw_single_edge(d) {\n",
              "    return 'M' + (d.source.y + options.node_x_size) + ',' + d.source.x + ' C' +\n",
              "        (d.source.y + options.node_x_size + options.edge_rounding) + ',' +\n",
              "        d.source.x + ' ' + (d.target.y - options.edge_rounding) + ',' +\n",
              "        d.target.x + ' ' + d.target.y + ',' + d.target.x;\n",
              "  }\n",
              "\n",
              "  graph.append('g')\n",
              "      .attr('fill', 'none')\n",
              "      .attr('stroke-width', 1.2)\n",
              "      .selectAll('path')\n",
              "      .data(tree_struct.links())\n",
              "      .join('path')\n",
              "      .attr('d', draw_single_edge)\n",
              "      .attr(\n",
              "          'stroke', d => (d.target === d.source.children[0]) ? '#0F0' : '#F00');\n",
              "}\n",
              "\n",
              "display_tree({\"margin\": 10, \"node_x_size\": 160, \"node_y_size\": 28, \"node_x_offset\": 180, \"node_y_offset\": 33, \"font_size\": 10, \"edge_rounding\": 20, \"node_padding\": 2, \"show_plot_bounding_box\": false}, {\"value\": {\"type\": \"REGRESSION\", \"value\": 3.3211140504363357e-09, \"num_examples\": 312517452.2984657, \"standard_deviation\": 0.24479136323986656}, \"condition\": {\"type\": \"CATEGORICAL_IS_IN\", \"attribute\": \"detailed_occupation_recode\", \"mask\": [\"2\", \"16\", \"3\", \"8\", \"17\", \"4\", \"18\", \"5\", \"15\", \"9\", \"7\", \"11\", \"1\", \"6\", \"46\"]}, \"children\": [{\"value\": {\"type\": \"REGRESSION\", \"value\": 0.38917678594589233, \"num_examples\": 42754667.7643013, \"standard_deviation\": 0.4570374174537349}, \"condition\": {\"type\": \"NUMERICAL_IS_HIGHER_THAN\", \"attribute\": \"capital_gains\", \"threshold\": 7364.0}, \"children\": [{\"value\": {\"type\": \"REGRESSION\", \"value\": 1.2770341634750366, \"num_examples\": 2724799.7705688477, \"standard_deviation\": 0.37628477902236507}, \"condition\": {\"type\": \"NUMERICAL_IS_HIGHER_THAN\", \"attribute\": \"capital_gains\", \"threshold\": 10041.0}, \"children\": [{\"value\": {\"type\": \"REGRESSION\", \"value\": 1.4412239789962769, \"num_examples\": 1967400.7803649902, \"standard_deviation\": 0.2590772811182184}, \"condition\": {\"type\": \"CATEGORICAL_IS_IN\", \"attribute\": \"sex\", \"mask\": [\" Male\"]}}, {\"value\": {\"type\": \"REGRESSION\", \"value\": 0.8505390286445618, \"num_examples\": 757398.9902038574, \"standard_deviation\": 0.49454019732761384}, \"condition\": {\"type\": \"CATEGORICAL_IS_IN\", \"attribute\": \"tax_filer_stat\", \"mask\": [\" Joint both under 65\", \" Joint both 65+\", \" Head of household\"]}}]}, {\"value\": {\"type\": \"REGRESSION\", \"value\": 0.32874107360839844, \"num_examples\": 40029867.99373245, \"standard_deviation\": 0.43918669051484}, \"condition\": {\"type\": \"CATEGORICAL_IS_IN\", \"attribute\": \"education\", \"mask\": [\" Bachelors degree(BA AB BS)\", \" Masters degree(MA MS MEng MEd MSW MBA)\", \" Prof school degree (MD DDS DVM LLB JD)\", \" Doctorate degree(PhD EdD)\"]}, \"children\": [{\"value\": {\"type\": \"REGRESSION\", \"value\": 0.5306107401847839, \"num_examples\": 20025282.243003845, \"standard_deviation\": 0.4858712799618072}, \"condition\": {\"type\": \"NUMERICAL_IS_HIGHER_THAN\", \"attribute\": \"age\", \"threshold\": 30.5}}, {\"value\": {\"type\": \"REGRESSION\", \"value\": 0.12666256725788116, \"num_examples\": 20004585.750728607, \"standard_deviation\": 0.34690540005449017}, \"condition\": {\"type\": \"CATEGORICAL_IS_IN\", \"attribute\": \"sex\", \"mask\": [\"<OOD>\", \" Male\"]}}]}]}, {\"value\": {\"type\": \"REGRESSION\", \"value\": -0.06168057397007942, \"num_examples\": 269762784.5341644, \"standard_deviation\": 0.16226075026549716}, \"condition\": {\"type\": \"NUMERICAL_IS_HIGHER_THAN\", \"attribute\": \"capital_gains\", \"threshold\": 10041.0}, \"children\": [{\"value\": {\"type\": \"REGRESSION\", \"value\": 1.0626096725463867, \"num_examples\": 964523.8805999756, \"standard_deviation\": 0.4579219905413661}, \"condition\": {\"type\": \"CATEGORICAL_IS_IN\", \"attribute\": \"sex\", \"mask\": [\" Male\"]}, \"children\": [{\"value\": {\"type\": \"REGRESSION\", \"value\": 1.215632677078247, \"num_examples\": 660444.1694030762, \"standard_deviation\": 0.40554346520207923}, \"condition\": {\"type\": \"CATEGORICAL_IS_IN\", \"attribute\": \"detailed_industry_recode\", \"mask\": [\"43\", \"4\", \"42\", \"45\", \"37\", \"34\", \"44\", \"2\", \"11\", \"50\", \"47\", \"9\", \"13\", \"48\", \"27\", \"3\", \"7\", \"14\", \"46\"]}}, {\"value\": {\"type\": \"REGRESSION\", \"value\": 0.7302522659301758, \"num_examples\": 304079.7111968994, \"standard_deviation\": 0.49999740270575177}, \"condition\": {\"type\": \"CATEGORICAL_IS_IN\", \"attribute\": \"tax_filer_stat\", \"mask\": [\" Single\", \" Head of household\"]}}]}, {\"value\": {\"type\": \"REGRESSION\", \"value\": -0.06571484357118607, \"num_examples\": 268798260.65356445, \"standard_deviation\": 0.15503578768093557}, \"condition\": {\"type\": \"CATEGORICAL_IS_IN\", \"attribute\": \"detailed_occupation_recode\", \"mask\": [\"<OOD>\", \"2\", \"34\", \"10\", \"16\", \"12\", \"33\", \"3\", \"35\", \"8\", \"17\", \"28\", \"43\", \"4\", \"18\", \"39\", \"14\", \"5\", \"15\", \"25\", \"9\", \"7\", \"11\", \"1\", \"21\", \"6\", \"22\", \"45\", \"20\", \"46\"]}, \"children\": [{\"value\": {\"type\": \"REGRESSION\", \"value\": 0.055067893117666245, \"num_examples\": 38554821.42158127, \"standard_deviation\": 0.29598472439655116}, \"condition\": {\"type\": \"NUMERICAL_IS_HIGHER_THAN\", \"attribute\": \"dividends_from_stocks\", \"threshold\": 47.5}}, {\"value\": {\"type\": \"REGRESSION\", \"value\": -0.08594020456075668, \"num_examples\": 230243439.23198318, \"standard_deviation\": 0.11120675557556821}, \"condition\": {\"type\": \"NUMERICAL_IS_HIGHER_THAN\", \"attribute\": \"dividends_from_stocks\", \"threshold\": 7476.0}}]}]}]}, \"#tree_plot_0d0b0561c18f4f8ca0e7b7cc903b0a25\")\n",
              "</script>\n"
            ],
            "text/plain": [
              "<IPython.core.display.HTML object>"
            ]
          },
          "metadata": {},
          "execution_count": 85
        }
      ]
    },
    {
      "cell_type": "code",
      "source": [
        "inspector = gbt_model.make_inspector()\n",
        "[field for field in dir(inspector) if not field.startswith(\"_\")]"
      ],
      "metadata": {
        "colab": {
          "base_uri": "https://localhost:8080/"
        },
        "id": "YAyskxaT_2dQ",
        "outputId": "bd2d2bd5-1001-46b2-d9de-1e759e243068"
      },
      "execution_count": 86,
      "outputs": [
        {
          "output_type": "execute_result",
          "data": {
            "text/plain": [
              "['MODEL_NAME',\n",
              " 'bias',\n",
              " 'dataspec',\n",
              " 'evaluation',\n",
              " 'export_to_tensorboard',\n",
              " 'extract_all_trees',\n",
              " 'extract_tree',\n",
              " 'features',\n",
              " 'header',\n",
              " 'iterate_on_nodes',\n",
              " 'label',\n",
              " 'label_classes',\n",
              " 'loss',\n",
              " 'metadata',\n",
              " 'model_type',\n",
              " 'num_trees',\n",
              " 'num_trees_per_iter',\n",
              " 'objective',\n",
              " 'specialized_header',\n",
              " 'task',\n",
              " 'training_logs',\n",
              " 'variable_importances']"
            ]
          },
          "metadata": {},
          "execution_count": 86
        }
      ]
    },
    {
      "cell_type": "code",
      "source": [
        "#display variable importance\n",
        "inspector.variable_importances()"
      ],
      "metadata": {
        "id": "WmwR_t62AGIq"
      },
      "execution_count": null,
      "outputs": []
    },
    {
      "cell_type": "code",
      "source": [
        "inspector.features()"
      ],
      "metadata": {
        "colab": {
          "base_uri": "https://localhost:8080/"
        },
        "id": "DbL9a6mLLImq",
        "outputId": "a9abf54f-cb6c-4fcb-994a-9417b5c343f0"
      },
      "execution_count": 91,
      "outputs": [
        {
          "output_type": "execute_result",
          "data": {
            "text/plain": [
              "[\"age\" (1; #0),\n",
              " \"capital_gains\" (1; #1),\n",
              " \"capital_losses\" (1; #2),\n",
              " \"citizenship\" (4; #3),\n",
              " \"class_of_worker\" (4; #4),\n",
              " \"country_of_birth_father\" (4; #5),\n",
              " \"country_of_birth_mother\" (4; #6),\n",
              " \"country_of_birth_self\" (4; #7),\n",
              " \"detailed_household_and_family_stat\" (4; #8),\n",
              " \"detailed_household_summary_in_household\" (4; #9),\n",
              " \"detailed_industry_recode\" (4; #10),\n",
              " \"detailed_occupation_recode\" (4; #11),\n",
              " \"dividends_from_stocks\" (1; #12),\n",
              " \"education\" (4; #13),\n",
              " \"enroll_in_edu_inst_last_wk\" (4; #14),\n",
              " \"family_members_under_18\" (4; #15),\n",
              " \"fill_inc_questionnaire_for_veteran's_admin\" (4; #16),\n",
              " \"full_or_part_time_employment_stat\" (4; #17),\n",
              " \"hispanic_origin\" (4; #18),\n",
              " \"live_in_this_house_1_year_ago\" (4; #19),\n",
              " \"major_industry_code\" (4; #20),\n",
              " \"major_occupation_code\" (4; #21),\n",
              " \"marital_stat\" (4; #22),\n",
              " \"member_of_a_labor_union\" (4; #23),\n",
              " \"migration_code-change_in_msa\" (4; #24),\n",
              " \"migration_code-change_in_reg\" (4; #25),\n",
              " \"migration_code-move_within_reg\" (4; #26),\n",
              " \"migration_prev_res_in_sunbelt\" (4; #27),\n",
              " \"num_persons_worked_for_employer\" (1; #28),\n",
              " \"own_business_or_self_employed\" (4; #29),\n",
              " \"race\" (4; #30),\n",
              " \"reason_for_unemployment\" (4; #31),\n",
              " \"region_of_previous_residence\" (4; #32),\n",
              " \"sex\" (4; #33),\n",
              " \"state_of_previous_residence\" (4; #34),\n",
              " \"tax_filer_stat\" (4; #35),\n",
              " \"veterans_benefits\" (4; #36),\n",
              " \"wage_per_hour\" (1; #37),\n",
              " \"weeks_worked_in_year\" (1; #38),\n",
              " \"year\" (4; #39)]"
            ]
          },
          "metadata": {},
          "execution_count": 91
        }
      ]
    },
    {
      "cell_type": "code",
      "source": [
        "tf.keras.models.save_model(\n",
        "    gbt_model, \"/Users/tdubon/TFClassificationForest\", overwrite=True, include_optimizer=True, save_format=None,\n",
        "    signatures=None, options=None, save_traces=True)"
      ],
      "metadata": {
        "colab": {
          "base_uri": "https://localhost:8080/",
          "height": 463
        },
        "id": "svbYWVVqLz2C",
        "outputId": "58c5b08b-4a49-48e5-e841-51c0cf2044c0"
      },
      "execution_count": 95,
      "outputs": [
        {
          "output_type": "stream",
          "name": "stderr",
          "text": [
            "WARNING:absl:Function `_wrapped_model` contains input name(s) fill_inc_questionnaire_for_veteran's_admin, migration_code-change_in_msa, migration_code-change_in_reg, migration_code-move_within_reg with unsupported characters which will be renamed to placeholder, migration_code_change_in_msa, migration_code_change_in_reg, migration_code_move_within_reg in the SavedModel.\n",
            "WARNING:absl:Found untraced functions such as call_get_leaves while saving (showing 1 of 1). These functions will not be directly callable after loading.\n"
          ]
        },
        {
          "output_type": "error",
          "ename": "ValueError",
          "evalue": "ignored",
          "traceback": [
            "\u001b[0;31m---------------------------------------------------------------------------\u001b[0m",
            "\u001b[0;31mValueError\u001b[0m                                Traceback (most recent call last)",
            "\u001b[0;32m<ipython-input-95-69e0dc8a6c8c>\u001b[0m in \u001b[0;36m<module>\u001b[0;34m()\u001b[0m\n\u001b[1;32m      1\u001b[0m tf.keras.models.save_model(\n\u001b[1;32m      2\u001b[0m     \u001b[0mgbt_model\u001b[0m\u001b[0;34m,\u001b[0m \u001b[0;34m\"/Users/tdubon/TFClassificationForest\"\u001b[0m\u001b[0;34m,\u001b[0m \u001b[0moverwrite\u001b[0m\u001b[0;34m=\u001b[0m\u001b[0;32mTrue\u001b[0m\u001b[0;34m,\u001b[0m \u001b[0minclude_optimizer\u001b[0m\u001b[0;34m=\u001b[0m\u001b[0;32mTrue\u001b[0m\u001b[0;34m,\u001b[0m \u001b[0msave_format\u001b[0m\u001b[0;34m=\u001b[0m\u001b[0;32mNone\u001b[0m\u001b[0;34m,\u001b[0m\u001b[0;34m\u001b[0m\u001b[0;34m\u001b[0m\u001b[0m\n\u001b[0;32m----> 3\u001b[0;31m     signatures=None, options=None, save_traces=True)\n\u001b[0m",
            "\u001b[0;32m/usr/local/lib/python3.7/dist-packages/keras/utils/traceback_utils.py\u001b[0m in \u001b[0;36merror_handler\u001b[0;34m(*args, **kwargs)\u001b[0m\n\u001b[1;32m     65\u001b[0m     \u001b[0;32mexcept\u001b[0m \u001b[0mException\u001b[0m \u001b[0;32mas\u001b[0m \u001b[0me\u001b[0m\u001b[0;34m:\u001b[0m  \u001b[0;31m# pylint: disable=broad-except\u001b[0m\u001b[0;34m\u001b[0m\u001b[0;34m\u001b[0m\u001b[0m\n\u001b[1;32m     66\u001b[0m       \u001b[0mfiltered_tb\u001b[0m \u001b[0;34m=\u001b[0m \u001b[0m_process_traceback_frames\u001b[0m\u001b[0;34m(\u001b[0m\u001b[0me\u001b[0m\u001b[0;34m.\u001b[0m\u001b[0m__traceback__\u001b[0m\u001b[0;34m)\u001b[0m\u001b[0;34m\u001b[0m\u001b[0;34m\u001b[0m\u001b[0m\n\u001b[0;32m---> 67\u001b[0;31m       \u001b[0;32mraise\u001b[0m \u001b[0me\u001b[0m\u001b[0;34m.\u001b[0m\u001b[0mwith_traceback\u001b[0m\u001b[0;34m(\u001b[0m\u001b[0mfiltered_tb\u001b[0m\u001b[0;34m)\u001b[0m \u001b[0;32mfrom\u001b[0m \u001b[0;32mNone\u001b[0m\u001b[0;34m\u001b[0m\u001b[0;34m\u001b[0m\u001b[0m\n\u001b[0m\u001b[1;32m     68\u001b[0m     \u001b[0;32mfinally\u001b[0m\u001b[0;34m:\u001b[0m\u001b[0;34m\u001b[0m\u001b[0;34m\u001b[0m\u001b[0m\n\u001b[1;32m     69\u001b[0m       \u001b[0;32mdel\u001b[0m \u001b[0mfiltered_tb\u001b[0m\u001b[0;34m\u001b[0m\u001b[0;34m\u001b[0m\u001b[0m\n",
            "\u001b[0;32m/usr/local/lib/python3.7/dist-packages/tensorflow/python/saved_model/save.py\u001b[0m in \u001b[0;36m_map_function_arguments_to_created_inputs\u001b[0;34m(function_arguments, signature_key, function_name)\u001b[0m\n\u001b[1;32m    608\u001b[0m           \u001b[0;34m\"Got non-flat/non-unique argument names for SavedModel signature \"\u001b[0m\u001b[0;34m\u001b[0m\u001b[0;34m\u001b[0m\u001b[0m\n\u001b[1;32m    609\u001b[0m           \u001b[0;34mf\"'{signature_key}': more than one argument to \"\u001b[0m\u001b[0;34m\u001b[0m\u001b[0;34m\u001b[0m\u001b[0m\n\u001b[0;32m--> 610\u001b[0;31m           \u001b[0;34mf\"'{compat.as_str_any(function_name)}' was named \"\u001b[0m\u001b[0;34m\u001b[0m\u001b[0;34m\u001b[0m\u001b[0m\n\u001b[0m\u001b[1;32m    611\u001b[0m           \u001b[0;34mf\"'{user_input_name}'. \"\u001b[0m\u001b[0;34m\u001b[0m\u001b[0;34m\u001b[0m\u001b[0m\n\u001b[1;32m    612\u001b[0m           \u001b[0;34m\"Signatures have one Tensor per named input, so to have \"\u001b[0m\u001b[0;34m\u001b[0m\u001b[0;34m\u001b[0m\u001b[0m\n",
            "\u001b[0;31mValueError\u001b[0m: Got non-flat/non-unique argument names for SavedModel signature 'serving_default': more than one argument to '__inference_signature_wrapper_49774' was named 'fill_inc_questionnaire_for_veteran's_admin'. Signatures have one Tensor per named input, so to have predictable names Python functions used to generate these signatures should avoid *args and Tensors in nested structures unless unique names are specified for each. Use tf.TensorSpec(..., name=...) to provide a name for a Tensor input."
          ]
        }
      ]
    }
  ]
}